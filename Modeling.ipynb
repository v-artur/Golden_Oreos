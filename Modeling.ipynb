{
  "cells": [
    {
      "cell_type": "markdown",
      "source": [
        "[![Open In Colab](https://colab.research.google.com/assets/colab-badge.svg)](https://colab.research.google.com/github/v-artur/Golden_Oreos/blob/main/Modeling.ipynb)"
      ],
      "metadata": {
        "id": "-YwF9Hzt2euf"
      },
      "id": "-YwF9Hzt2euf"
    },
    {
      "cell_type": "markdown",
      "source": [
        "Import files from drive"
      ],
      "metadata": {
        "id": "gVCNOaaoDSbO"
      },
      "id": "gVCNOaaoDSbO"
    },
    {
      "cell_type": "code",
      "execution_count": null,
      "id": "a2005cbc",
      "metadata": {
        "id": "a2005cbc",
        "outputId": "05d9ced0-8163-41b7-90b3-d4d323883d0b",
        "colab": {
          "base_uri": "https://localhost:8080/"
        }
      },
      "outputs": [
        {
          "output_type": "stream",
          "name": "stdout",
          "text": [
            "Cloning into 'Golden_Oreos'...\n",
            "remote: Not Found\n",
            "fatal: repository 'https://github.com/konderal333/github/v-artur/Golden_Oreos.git/' not found\n"
          ]
        }
      ],
      "source": [
        "from google.colab import drive\n",
        "drive.mount('/content/drive')"
      ]
    },
    {
      "cell_type": "markdown",
      "source": [
        "NN Models"
      ],
      "metadata": {
        "id": "IdUi7BT0FpV8"
      },
      "id": "IdUi7BT0FpV8"
    },
    {
      "cell_type": "code",
      "source": [
        "import tensorflow as tf\n",
        "from tensorflow.keras import regularizers\n",
        "from tensorflow.keras.callbacks import EarlyStopping, ModelCheckpoint\n",
        "\n",
        "early_stopping=EarlyStopping(patience=25, verbose=1, min_delta=1e-5)\n",
        "checkpointer=ModelCheckpoint(filepath='weights1.hdf5', save_best_only=True, verbose=1)\n",
        "\n",
        "def create_ae_model(inputsize, outputsize):\n",
        "    model = tf.keras.Sequential()\n",
        "    model.add(tf.keras.layers.Input(shape=(inputsize)))\n",
        "    model.add(tf.keras.layers.Dropout(0.2))\n",
        "    model.add(tf.keras.layers.Dense(64, activation=\"relu\", activity_regularizer=regularizers.L2(0.1)))\n",
        "    model.add(tf.keras.layers.Dropout(0.2))\n",
        "    model.add(tf.keras.layers.Dense(8, activation=\"relu\", activity_regularizer=regularizers.L2(0.1)))\n",
        "    model.add(tf.keras.layers.Dropout(0.2))\n",
        "    model.add(tf.keras.layers.Dense(64, activation=\"relu\", activity_regularizer=regularizers.L2(0.1)))\n",
        "    model.add(tf.keras.layers.Dropout(0.2))\n",
        "    model.add(tf.keras.layers.Dense(outputsize))\n",
        "    return model\n",
        "\n",
        "\n",
        "def create_nn_model(inputsize, outputsize):\n",
        "    # TODO\n",
        "    print(\"\")\n",
        "\n",
        "#TODO: Transformer here\n"
      ],
      "metadata": {
        "id": "omTrLftIFokI"
      },
      "id": "omTrLftIFokI",
      "execution_count": 8,
      "outputs": []
    },
    {
      "cell_type": "markdown",
      "source": [
        "# Spectrogram reconstruction (not yet fully runnable)"
      ],
      "metadata": {
        "id": "QUch8ZTsGET3"
      },
      "id": "QUch8ZTsGET3"
    },
    {
      "cell_type": "markdown",
      "source": [
        "1.) One person model"
      ],
      "metadata": {
        "id": "SFlhVaHrGjo-"
      },
      "id": "SFlhVaHrGjo-"
    },
    {
      "cell_type": "code",
      "execution_count": 11,
      "id": "31c0796a",
      "metadata": {
        "id": "31c0796a"
      },
      "outputs": [],
      "source": [
        "import os\n",
        "\n",
        "import numpy as np\n",
        "import scipy.io.wavfile as wavfile\n",
        "from scipy.stats import pearsonr\n",
        "from sklearn.model_selection import KFold\n",
        "from sklearn.decomposition import PCA\n",
        "\n",
        "import reconstructWave as rW\n",
        "import MelFilterBank as mel\n",
        "\n",
        "#Optional function\n",
        "def createAudio(spectrogram, audiosr=16000, winLength=0.05, frameshift=0.01):\n",
        "    mfb = mel.MelFilterBank(int((audiosr*winLength)/2+1), spectrogram.shape[1], audiosr)\n",
        "    nfolds = 10\n",
        "    hop = int(spectrogram.shape[0]/nfolds)\n",
        "    rec_audio = np.array([])\n",
        "    for_reconstruction = mfb.fromLogMels(spectrogram)\n",
        "    for w in range(0,spectrogram.shape[0],hop):\n",
        "        spec = for_reconstruction[w:min(w+hop,for_reconstruction.shape[0]),:]\n",
        "        rec = rW.reconstructWavFromSpectrogram(spec,spec.shape[0]*spec.shape[1],fftsize=int(audiosr*winLength),overlap=int(winLength/frameshift))\n",
        "        rec_audio = np.append(rec_audio,rec)\n",
        "    scaled = np.int16(rec_audio/np.max(np.abs(rec_audio)) * 32767)\n",
        "    return scaled\n",
        "\n",
        "\n",
        "##### MODELING ########\n",
        "\n",
        "#TODO\n",
        "\n",
        "# model = True\n",
        "\n",
        "# if model == True:\n",
        "#     feat_path = r'/content/drive/MyDrive/DeepLearning/features'\n",
        "#     result_path = r'/content/drive/MyDrive/DeepLearning/features'\n",
        "#     pts = ['sub-%02d'%i for i in range(1,11)]\n",
        "\n",
        "#     winLength = 0.05\n",
        "#     frameshift = 0.01\n",
        "#     audiosr = 16000\n",
        "\n",
        "#     nfolds = 10\n",
        "#     kf = KFold(nfolds,shuffle=False)\n",
        "#     pca = PCA()\n",
        "#     numComps = 50\n",
        "    \n",
        "#     #Initialize empty matrices for correlation results, randomized controls and amount of explained variance\n",
        "#     allRes = np.zeros((len(pts),nfolds,23))\n",
        "#     explainedVariance = np.zeros((len(pts),nfolds))\n",
        "#     numRands = 1000\n",
        "#     randomControl = np.zeros((len(pts),numRands, 23))\n",
        "\n",
        "#     for pNr, pt in enumerate(pts):\n",
        "        \n",
        "        \n",
        "#         #Load the data\n",
        "#         #Dimensions of these data vary depending on the subject\n",
        "#         spectrogram = np.load(os.path.join(feat_path,f'{pt}_spec.npy'))  \n",
        "#         data = np.load(os.path.join(feat_path,f'{pt}_feat.npy'))\n",
        "#         labels = np.load(os.path.join(feat_path,f'{pt}_procWords.npy'))\n",
        "#         featName = np.load(os.path.join(feat_path,f'{pt}_feat_names.npy'))\n",
        "\n",
        "#         #Autoencoder\n",
        "#         ae = create_ae_model(data.shape[1], spectrogram.shape[1])\n",
        "#         #Dense Network\n",
        "#         nn = create_nn_model(data.shape[1], spectrogram.shape[1])\n",
        "#         #Transformer\n",
        "#         #TODO\n",
        "\n",
        "        \n",
        "#         #Initialize an empty spectrogram to save the reconstruction to\n",
        "#         rec_spec = np.zeros(spectrogram.shape)\n",
        "#         #Save the correlation coefficients for each fold\n",
        "#         rs = np.zeros((nfolds,spectrogram.shape[1]))\n",
        "#         for k,(train, test) in enumerate(kf.split(data)):\n",
        "          \n",
        "#             #Normalization\n",
        "#             mu=np.mean(data[train,:],axis=0)\n",
        "#             std=np.std(data[train,:],axis=0)\n",
        "#             trainData=(data[train,:]-mu)/std\n",
        "#             testData=(data[test,:]-mu)/std\n",
        "\n",
        "#             #Fit PCA to training data\n",
        "#             pca.fit(trainData)\n",
        "#             #Get percentage of explained variance by selected components\n",
        "#             explainedVariance[pNr,k] = np.sum(pca.explained_variance_ratio_[:numComps])\n",
        "#             #Tranform data into component space\n",
        "#             trainData = np.dot(trainData, pca.components_[:numComps,:].T)\n",
        "#             testData = np.dot(testData, pca.components_[:numComps,:].T)\n",
        "            \n",
        "#             #Fit the regression model\n",
        "#             ae.fit(trainData, spectrogram[train, :])\n",
        "#             #Predict the reconstructed spectrogram for the test data\n",
        "#             rec_spec[test, :] = est.predict(testData)\n",
        "\n",
        "#             #Evaluate reconstruction of this fold\n",
        "#             for specBin in range(spectrogram.shape[1]):\n",
        "#                 if np.any(np.isnan(rec_spec)):\n",
        "#                     print('%s has %d broken samples in reconstruction' % (pt, np.sum(np.isnan(rec_spec))))\n",
        "#                 r, p = pearsonr(spectrogram[test, specBin], rec_spec[test, specBin])\n",
        "#                 rs[k,specBin] = r\n",
        "\n",
        "#         #Show evaluation result\n",
        "#         print('%s has mean correlation of %f' % (pt, np.mean(rs)))\n",
        "#         allRes[pNr,:,:]=rs\n",
        "\n",
        "#         #Estimate random baseline\n",
        "#         for randRound in range(numRands):\n",
        "#             #Choose a random splitting point at least 10% of the dataset size away\n",
        "#             splitPoint = np.random.choice(np.arange(int(spectrogram.shape[0]*0.1),int(spectrogram.shape[0]*0.9)))\n",
        "#             #Swap the dataset on the splitting point \n",
        "#             shuffled = np.concatenate((spectrogram[splitPoint:,:],spectrogram[:splitPoint,:]))\n",
        "#             #Calculate the correlations\n",
        "#             for specBin in range(spectrogram.shape[1]):\n",
        "#                 if np.any(np.isnan(rec_spec)):\n",
        "#                     print('%s has %d broken samples in reconstruction' % (pt, np.sum(np.isnan(rec_spec))))\n",
        "#                 r, p = pearsonr(spectrogram[:,specBin], shuffled[:,specBin])\n",
        "#                 randomControl[pNr, randRound,specBin]=r\n",
        "\n",
        "\n",
        "#         #Save reconstructed spectrogram\n",
        "#         os.makedirs(os.path.join(result_path), exist_ok=True)\n",
        "#         np.save(os.path.join(result_path,f'{pt}_predicted_spec.npy'), rec_spec)\n",
        "        \n",
        "#         #Synthesize waveform from spectrogram using Griffin-Lim\n",
        "#         reconstructedWav = createAudio(rec_spec,audiosr=audiosr,winLength=winLength,frameshift=frameshift)\n",
        "#         wavfile.write(os.path.join(result_path,f'{pt}_predicted.wav'),int(audiosr),reconstructedWav)\n",
        "\n",
        "#         #For comparison synthesize the original spectrogram with Griffin-Lim\n",
        "#         origWav = createAudio(spectrogram,audiosr=audiosr,winLength=winLength,frameshift=frameshift)\n",
        "#         wavfile.write(os.path.join(result_path,f'{pt}_orig_synthesized.wav'),int(audiosr),origWav)\n",
        "\n",
        "#     #Save results in numpy arrays          \n",
        "#     np.save(os.path.join(result_path,'linearResults.npy'),allRes)\n",
        "#     np.save(os.path.join(result_path,'randomResults.npy'),randomControl)\n",
        "#     np.save(os.path.join(result_path,'explainedVariance.npy'),explainedVariance)"
      ]
    },
    {
      "cell_type": "code",
      "execution_count": null,
      "id": "0a6e6b40",
      "metadata": {
        "id": "0a6e6b40"
      },
      "outputs": [],
      "source": []
    }
  ],
  "metadata": {
    "kernelspec": {
      "display_name": "Python 3 (ipykernel)",
      "language": "python",
      "name": "python3"
    },
    "language_info": {
      "codemirror_mode": {
        "name": "ipython",
        "version": 3
      },
      "file_extension": ".py",
      "mimetype": "text/x-python",
      "name": "python",
      "nbconvert_exporter": "python",
      "pygments_lexer": "ipython3",
      "version": "3.8.11"
    },
    "colab": {
      "provenance": []
    }
  },
  "nbformat": 4,
  "nbformat_minor": 5
}