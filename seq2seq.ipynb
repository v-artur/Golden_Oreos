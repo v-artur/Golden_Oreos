{
  "nbformat": 4,
  "nbformat_minor": 0,
  "metadata": {
    "colab": {
      "provenance": [],
      "include_colab_link": true
    },
    "kernelspec": {
      "name": "python3",
      "display_name": "Python 3"
    },
    "language_info": {
      "name": "python"
    }
  },
  "cells": [
    {
      "cell_type": "markdown",
      "metadata": {
        "id": "view-in-github",
        "colab_type": "text"
      },
      "source": [
        "<a href=\"https://colab.research.google.com/github/v-artur/Golden_Oreos/blob/main/seq2seq.ipynb\" target=\"_parent\"><img src=\"https://colab.research.google.com/assets/colab-badge.svg\" alt=\"Open In Colab\"/></a>"
      ]
    },
    {
      "cell_type": "code",
      "source": [
        "!pip install gdown"
      ],
      "metadata": {
        "colab": {
          "base_uri": "https://localhost:8080/"
        },
        "id": "uRQcjeHTNXVK",
        "outputId": "bf22e5ca-b50d-4630-a5c9-7385d3a7a6a4"
      },
      "execution_count": 1,
      "outputs": [
        {
          "output_type": "stream",
          "name": "stdout",
          "text": [
            "Looking in indexes: https://pypi.org/simple, https://us-python.pkg.dev/colab-wheels/public/simple/\n",
            "Requirement already satisfied: gdown in /usr/local/lib/python3.7/dist-packages (4.4.0)\n",
            "Requirement already satisfied: filelock in /usr/local/lib/python3.7/dist-packages (from gdown) (3.8.0)\n",
            "Requirement already satisfied: beautifulsoup4 in /usr/local/lib/python3.7/dist-packages (from gdown) (4.6.3)\n",
            "Requirement already satisfied: six in /usr/local/lib/python3.7/dist-packages (from gdown) (1.15.0)\n",
            "Requirement already satisfied: tqdm in /usr/local/lib/python3.7/dist-packages (from gdown) (4.64.1)\n",
            "Requirement already satisfied: requests[socks] in /usr/local/lib/python3.7/dist-packages (from gdown) (2.23.0)\n",
            "Requirement already satisfied: urllib3!=1.25.0,!=1.25.1,<1.26,>=1.21.1 in /usr/local/lib/python3.7/dist-packages (from requests[socks]->gdown) (1.24.3)\n",
            "Requirement already satisfied: chardet<4,>=3.0.2 in /usr/local/lib/python3.7/dist-packages (from requests[socks]->gdown) (3.0.4)\n",
            "Requirement already satisfied: idna<3,>=2.5 in /usr/local/lib/python3.7/dist-packages (from requests[socks]->gdown) (2.10)\n",
            "Requirement already satisfied: certifi>=2017.4.17 in /usr/local/lib/python3.7/dist-packages (from requests[socks]->gdown) (2022.9.24)\n",
            "Requirement already satisfied: PySocks!=1.5.7,>=1.5.6 in /usr/local/lib/python3.7/dist-packages (from requests[socks]->gdown) (1.7.1)\n"
          ]
        }
      ]
    },
    {
      "cell_type": "code",
      "source": [
        "#obtaining the data\n",
        "!gdown https://drive.google.com/uc?id=1vtZchVzl424pSQBXQ8EBxvVOzcEQPKIp\n",
        "\n",
        "#extracting it\n",
        "import zipfile\n",
        "zip_ref = zipfile.ZipFile(\"/content/features.zip\", 'r')\n",
        "zip_ref.extractall(\"/content/features\")\n",
        "zip_ref.close()"
      ],
      "metadata": {
        "colab": {
          "base_uri": "https://localhost:8080/"
        },
        "id": "wPOFvay6Nb-D",
        "outputId": "b3e8ec6b-bba0-4b16-88f6-2fac6546213c"
      },
      "execution_count": 2,
      "outputs": [
        {
          "output_type": "stream",
          "name": "stdout",
          "text": [
            "Downloading...\n",
            "From: https://drive.google.com/uc?id=1vtZchVzl424pSQBXQ8EBxvVOzcEQPKIp\n",
            "To: /content/features.zip\n",
            "100% 2.14G/2.14G [00:24<00:00, 88.2MB/s]\n"
          ]
        }
      ]
    },
    {
      "cell_type": "code",
      "source": [
        "#setting the path\n",
        "feat_path = r'/content/features'\n",
        "\n",
        "# the subjects for each set\n",
        "train_subs = ['sub-05', 'sub-06', 'sub-07', 'sub-08', 'sub-09','sub-10']\n",
        "val_subs = ['sub-01', 'sub-02']\n",
        "test_subs = ['sub-03', 'sub-04']"
      ],
      "metadata": {
        "id": "6gzQUp7vNesP"
      },
      "execution_count": 3,
      "outputs": []
    },
    {
      "cell_type": "code",
      "source": [
        "from sklearn.decomposition import PCA\n",
        "import numpy as np\n",
        "import os\n",
        "\n",
        "\n",
        "# making the train, validation and test sets with Principal Component Analysis \n",
        "def make_set(subs, n_comp):\n",
        "  whole_data = []\n",
        "  whole_spec = []\n",
        "\n",
        "  for participant in subs:\n",
        "    #features with PCA\n",
        "    data = np.load(os.path.join(feat_path,f'{participant}_feat.npy'))\n",
        "    transformer = PCA(n_components=n_comp, random_state=0)\n",
        "    data = transformer.fit_transform(data)\n",
        "    whole_data.append(data)\n",
        "    #labels\n",
        "    spec = np.load(os.path.join(feat_path,f'{participant}_spec.npy'))\n",
        "    whole_spec.append(spec)\n",
        "  \n",
        "  features = np.vstack(tuple(whole_data))\n",
        "  labels = np.vstack(tuple(whole_spec))\n",
        "\n",
        "  return features, labels\n",
        "\n",
        "\n",
        "train_data, train_spec = make_set(train_subs, 300)\n",
        "val_data, val_spec = make_set(val_subs, 300)\n",
        "test_data, test_spec = make_set(test_subs, 300)  "
      ],
      "metadata": {
        "id": "dyuI0utTk8VF"
      },
      "execution_count": 6,
      "outputs": []
    },
    {
      "cell_type": "code",
      "source": [
        "# Standardization\n",
        "from sklearn.preprocessing import StandardScaler\n",
        "scaler = StandardScaler()\n",
        "train_data = scaler.fit_transform(train_data)\n",
        "val_data = scaler.transform(val_data)\n",
        "test_data = scaler.transform(test_data)"
      ],
      "metadata": {
        "id": "Th0c5PDDnVgb"
      },
      "execution_count": 7,
      "outputs": []
    },
    {
      "cell_type": "markdown",
      "source": [
        "Simple FC-DNN model"
      ],
      "metadata": {
        "id": "Df3oSMwBndsT"
      }
    },
    {
      "cell_type": "code",
      "source": [
        "import tensorflow as tf\n",
        "from tensorflow.keras import regularizers, models\n",
        "from tensorflow.keras.callbacks import EarlyStopping, ModelCheckpoint\n",
        "from tensorflow.keras.layers import Dense, Dropout, Input\n",
        "\n",
        "#Making the Normal FC-DNN model\n",
        "\n",
        "def create_dnn_model(inputsize, outputsize):\n",
        "    model = tf.keras.Sequential()\n",
        "    model.add(tf.keras.layers.Input(shape=(inputsize)))\n",
        "    model.add(tf.keras.layers.Dense(256, activation=\"relu\", kernel_initializer='HeNormal'))\n",
        "    model.add(tf.keras.layers.Dropout(0.2))\n",
        "    model.add(tf.keras.layers.Dense(128, activation=\"relu\", kernel_initializer='HeNormal'))\n",
        "    model.add(tf.keras.layers.Dropout(0.2))\n",
        "    model.add(tf.keras.layers.Dense(64, activation=\"relu\", kernel_initializer='HeNormal'))\n",
        "    model.add(tf.keras.layers.Dropout(0.2))\n",
        "    model.add(tf.keras.layers.Dense(outputsize))\n",
        "    return model\n"
      ],
      "metadata": {
        "id": "KGlcPhkJnSAC"
      },
      "execution_count": null,
      "outputs": []
    },
    {
      "cell_type": "code",
      "source": [
        "def concatenating_and_padding(subs):\n",
        "  whole_data = []\n",
        "  whole_spec = []\n",
        "\n",
        "  for participant in subs:\n",
        "    data = np.load(os.path.join(feat_path,f'{participant}_feat.npy'))\n",
        "    whole_data.append(data)\n",
        "    spec = np.load(os.path.join(feat_path,f'{participant}_spec.npy'))\n",
        "    whole_spec.append(spec)\n",
        "\n",
        "  new_spec = np.array(whole_spec)\n",
        "\n",
        "  max_len = max([dat.shape[1] for dat in whole_data]) # max number of features\n",
        "  all_len = sum([dat.shape[0] for dat in whole_data]) # sum of all rows\n",
        "\n",
        "  new_data = np.zeros((all_len,max_len))\n",
        "\n",
        "  num_rows = 0\n",
        "  for sub in whole_data:\n",
        "    row_len = sub.shape[1]\n",
        "    new_data[num_rows:num_rows+sub.shape[0],0:row_len] = sub\n",
        "    num_rows += sub.shape[0]\n",
        "\n",
        "  return new_data, new_spec"
      ],
      "metadata": {
        "id": "-CWajNm0PziW"
      },
      "execution_count": 59,
      "outputs": []
    },
    {
      "cell_type": "code",
      "source": [
        "#train_data = train_data[:700] # Experimenting on a smaller sample \n",
        "#train_spec = train_spec[:700]"
      ],
      "metadata": {
        "id": "PTD6FFXUfjYs"
      },
      "execution_count": 8,
      "outputs": []
    },
    {
      "cell_type": "code",
      "source": [
        "# normal DNN model\n",
        "early_stopping=EarlyStopping(patience=25, verbose=1, min_delta=1e-5)\n",
        "checkpointer=ModelCheckpoint(filepath='weights1.hdf5', save_best_only=True, verbose=1)\n",
        "\n",
        "model = create_dnn_model(300, 23)\n",
        "model.compile(loss='mse', optimizer='adam', metrics=['mse'])\n",
        "model.fit(train_data, train_spec, batch_size=64, \n",
        "          epochs=100, verbose=0, validation_data=(val_data, val_spec), shuffle=True,\n",
        "          callbacks=[checkpointer, early_stopping])"
      ],
      "metadata": {
        "id": "qD7NdeW8gxW8",
        "outputId": "da9c0084-2025-4e19-e554-e644fbd08f0c",
        "colab": {
          "base_uri": "https://localhost:8080/",
          "height": 345
        }
      },
      "execution_count": 45,
      "outputs": [
        {
          "output_type": "error",
          "ename": "ValueError",
          "evalue": "ignored",
          "traceback": [
            "\u001b[0;31m---------------------------------------------------------------------------\u001b[0m",
            "\u001b[0;31mValueError\u001b[0m                                Traceback (most recent call last)",
            "\u001b[0;32m<ipython-input-45-74d865b18245>\u001b[0m in \u001b[0;36m<module>\u001b[0;34m\u001b[0m\n\u001b[1;32m      7\u001b[0m model.fit(train_data, train_spec, batch_size=64, \n\u001b[1;32m      8\u001b[0m           \u001b[0mepochs\u001b[0m\u001b[0;34m=\u001b[0m\u001b[0;36m100\u001b[0m\u001b[0;34m,\u001b[0m \u001b[0mverbose\u001b[0m\u001b[0;34m=\u001b[0m\u001b[0;36m0\u001b[0m\u001b[0;34m,\u001b[0m \u001b[0mvalidation_data\u001b[0m\u001b[0;34m=\u001b[0m\u001b[0;34m(\u001b[0m\u001b[0mval_data\u001b[0m\u001b[0;34m,\u001b[0m \u001b[0mval_spec\u001b[0m\u001b[0;34m)\u001b[0m\u001b[0;34m,\u001b[0m \u001b[0mshuffle\u001b[0m\u001b[0;34m=\u001b[0m\u001b[0;32mTrue\u001b[0m\u001b[0;34m,\u001b[0m\u001b[0;34m\u001b[0m\u001b[0;34m\u001b[0m\u001b[0m\n\u001b[0;32m----> 9\u001b[0;31m           callbacks=[checkpointer, early_stopping])\n\u001b[0m",
            "\u001b[0;32m/usr/local/lib/python3.7/dist-packages/keras/utils/traceback_utils.py\u001b[0m in \u001b[0;36merror_handler\u001b[0;34m(*args, **kwargs)\u001b[0m\n\u001b[1;32m     65\u001b[0m     \u001b[0;32mexcept\u001b[0m \u001b[0mException\u001b[0m \u001b[0;32mas\u001b[0m \u001b[0me\u001b[0m\u001b[0;34m:\u001b[0m  \u001b[0;31m# pylint: disable=broad-except\u001b[0m\u001b[0;34m\u001b[0m\u001b[0;34m\u001b[0m\u001b[0m\n\u001b[1;32m     66\u001b[0m       \u001b[0mfiltered_tb\u001b[0m \u001b[0;34m=\u001b[0m \u001b[0m_process_traceback_frames\u001b[0m\u001b[0;34m(\u001b[0m\u001b[0me\u001b[0m\u001b[0;34m.\u001b[0m\u001b[0m__traceback__\u001b[0m\u001b[0;34m)\u001b[0m\u001b[0;34m\u001b[0m\u001b[0;34m\u001b[0m\u001b[0m\n\u001b[0;32m---> 67\u001b[0;31m       \u001b[0;32mraise\u001b[0m \u001b[0me\u001b[0m\u001b[0;34m.\u001b[0m\u001b[0mwith_traceback\u001b[0m\u001b[0;34m(\u001b[0m\u001b[0mfiltered_tb\u001b[0m\u001b[0;34m)\u001b[0m \u001b[0;32mfrom\u001b[0m \u001b[0;32mNone\u001b[0m\u001b[0;34m\u001b[0m\u001b[0;34m\u001b[0m\u001b[0m\n\u001b[0m\u001b[1;32m     68\u001b[0m     \u001b[0;32mfinally\u001b[0m\u001b[0;34m:\u001b[0m\u001b[0;34m\u001b[0m\u001b[0;34m\u001b[0m\u001b[0m\n\u001b[1;32m     69\u001b[0m       \u001b[0;32mdel\u001b[0m \u001b[0mfiltered_tb\u001b[0m\u001b[0;34m\u001b[0m\u001b[0;34m\u001b[0m\u001b[0m\n",
            "\u001b[0;32m/usr/local/lib/python3.7/dist-packages/tensorflow/python/framework/constant_op.py\u001b[0m in \u001b[0;36mconvert_to_eager_tensor\u001b[0;34m(value, ctx, dtype)\u001b[0m\n\u001b[1;32m    100\u001b[0m       \u001b[0mdtype\u001b[0m \u001b[0;34m=\u001b[0m \u001b[0mdtypes\u001b[0m\u001b[0;34m.\u001b[0m\u001b[0mas_dtype\u001b[0m\u001b[0;34m(\u001b[0m\u001b[0mdtype\u001b[0m\u001b[0;34m)\u001b[0m\u001b[0;34m.\u001b[0m\u001b[0mas_datatype_enum\u001b[0m\u001b[0;34m\u001b[0m\u001b[0;34m\u001b[0m\u001b[0m\n\u001b[1;32m    101\u001b[0m   \u001b[0mctx\u001b[0m\u001b[0;34m.\u001b[0m\u001b[0mensure_initialized\u001b[0m\u001b[0;34m(\u001b[0m\u001b[0;34m)\u001b[0m\u001b[0;34m\u001b[0m\u001b[0;34m\u001b[0m\u001b[0m\n\u001b[0;32m--> 102\u001b[0;31m   \u001b[0;32mreturn\u001b[0m \u001b[0mops\u001b[0m\u001b[0;34m.\u001b[0m\u001b[0mEagerTensor\u001b[0m\u001b[0;34m(\u001b[0m\u001b[0mvalue\u001b[0m\u001b[0;34m,\u001b[0m \u001b[0mctx\u001b[0m\u001b[0;34m.\u001b[0m\u001b[0mdevice_name\u001b[0m\u001b[0;34m,\u001b[0m \u001b[0mdtype\u001b[0m\u001b[0;34m)\u001b[0m\u001b[0;34m\u001b[0m\u001b[0;34m\u001b[0m\u001b[0m\n\u001b[0m\u001b[1;32m    103\u001b[0m \u001b[0;34m\u001b[0m\u001b[0m\n\u001b[1;32m    104\u001b[0m \u001b[0;34m\u001b[0m\u001b[0m\n",
            "\u001b[0;31mValueError\u001b[0m: Failed to convert a NumPy array to a Tensor (Unsupported object type numpy.ndarray)."
          ]
        }
      ]
    },
    {
      "cell_type": "markdown",
      "source": [
        "## Model 1"
      ],
      "metadata": {
        "id": "utpfaN_GKThY"
      }
    },
    {
      "cell_type": "code",
      "source": [
        "train_data = train_data.reshape((train_data.shape[0],train_data.shape[1],1))\n",
        "train_spec = train_spec.reshape((train_spec.shape[0],train_spec.shape[1],1))\n",
        "\n",
        "val_data = val_data.reshape((val_data.shape[0],val_data.shape[1],1))\n",
        "val_spec = val_spec.reshape((val_spec.shape[0],val_spec.shape[1],1))\n",
        "\n",
        "test_data = test_data.reshape((test_data.shape[0],test_data.shape[1],1))\n",
        "test_spec = test_spec.reshape((test_spec.shape[0],test_spec.shape[1],1))"
      ],
      "metadata": {
        "id": "gRvpVIyLqZCp"
      },
      "execution_count": null,
      "outputs": []
    },
    {
      "cell_type": "code",
      "source": [
        "from keras.models import Model\n",
        "from keras.layers import LSTM\n",
        "from keras import Input\n",
        "from tensorflow.keras.callbacks import EarlyStopping, ModelCheckpoint"
      ],
      "metadata": {
        "id": "hvFm_aBIf9ap"
      },
      "execution_count": 11,
      "outputs": []
    },
    {
      "cell_type": "code",
      "source": [
        "# https://www.kaggle.com/code/kmkarakaya/lstm-understanding-the-number-of-parameters\n",
        "\n",
        "timesteps = train_data.shape[1]             # dimensionality of the input sequence\n",
        "features = 1                          # dimensionality of each input representation in the sequence\n",
        "outputDim = train_spec.shape[1]             # dimensionality of the LSTM outputs (Hidden & Cell states)\n",
        "\n",
        "input = Input(shape=(timesteps, features))\n",
        "output = LSTM(outputDim)(input)\n",
        "model_LSTM = Model(inputs=input, outputs=output)\n",
        "\n",
        "early_stopping=EarlyStopping(patience=25, verbose=1, min_delta=1e-5)\n",
        "checkpointer = ModelCheckpoint(filepath='weights-lstm.hdf5', save_best_only=True, verbose=1)\n",
        "\n",
        "model_LSTM.compile(loss='mse', optimizer='adam', metrics=['mse'])\n",
        "model_LSTM.fit(train_data, train_spec, epochs=2, validation_split=0.2, batch_size=64, verbose=1, callbacks=[checkpointer, early_stopping])"
      ],
      "metadata": {
        "colab": {
          "base_uri": "https://localhost:8080/"
        },
        "id": "0PygCxrnfp7U",
        "outputId": "814034a3-7f55-4653-f43d-6439fa6f8583"
      },
      "execution_count": 12,
      "outputs": [
        {
          "output_type": "stream",
          "name": "stdout",
          "text": [
            "Epoch 1/2\n",
            "9/9 [==============================] - ETA: 0s - loss: 34.7186 - mse: 34.7186\n",
            "Epoch 1: val_loss improved from inf to 21.96873, saving model to weights-lstm.hdf5\n",
            "9/9 [==============================] - 4s 184ms/step - loss: 34.7186 - mse: 34.7186 - val_loss: 21.9687 - val_mse: 21.9687\n",
            "Epoch 2/2\n",
            "9/9 [==============================] - ETA: 0s - loss: 34.5797 - mse: 34.5797\n",
            "Epoch 2: val_loss improved from 21.96873 to 21.81439, saving model to weights-lstm.hdf5\n",
            "9/9 [==============================] - 1s 111ms/step - loss: 34.5797 - mse: 34.5797 - val_loss: 21.8144 - val_mse: 21.8144\n"
          ]
        },
        {
          "output_type": "execute_result",
          "data": {
            "text/plain": [
              "<keras.callbacks.History at 0x7f801e7819d0>"
            ]
          },
          "metadata": {},
          "execution_count": 12
        }
      ]
    },
    {
      "cell_type": "code",
      "source": [
        "x = test_data[0].reshape((1,300,1))\n",
        "model_LSTM.predict(x)"
      ],
      "metadata": {
        "colab": {
          "base_uri": "https://localhost:8080/"
        },
        "id": "WPIrGpRYfvZc",
        "outputId": "3dc07738-8e8e-4599-acce-71eb9005fb10"
      },
      "execution_count": 13,
      "outputs": [
        {
          "output_type": "stream",
          "name": "stdout",
          "text": [
            "1/1 [==============================] - 0s 471ms/step\n"
          ]
        },
        {
          "output_type": "execute_result",
          "data": {
            "text/plain": [
              "array([[ 0.061514  , -0.01006135, -0.04190003,  0.00118558,  0.04889771,\n",
              "         0.02200028, -0.02356197, -0.00060326,  0.01394669, -0.07210566,\n",
              "        -0.00783062, -0.03763462,  0.1078046 ,  0.01875776, -0.00141495,\n",
              "         0.00119135, -0.01632942,  0.07173061, -0.06324889,  0.01155341,\n",
              "         0.09683105,  0.01851598,  0.03977415]], dtype=float32)"
            ]
          },
          "metadata": {},
          "execution_count": 13
        }
      ]
    },
    {
      "cell_type": "markdown",
      "source": [
        "## Model 2"
      ],
      "metadata": {
        "id": "Z4q3-S2nKVwg"
      }
    },
    {
      "cell_type": "markdown",
      "source": [
        "https://blog.keras.io/a-ten-minute-introduction-to-sequence-to-sequence-learning-in-keras.html"
      ],
      "metadata": {
        "id": "iJku1HRh-W28"
      }
    },
    {
      "cell_type": "code",
      "source": [
        "from keras.models import Model\n",
        "from keras.layers import Input, LSTM, Dense\n",
        "\n",
        "latent_dim = 128\n",
        "start_symbol = 1.\n",
        "\n",
        "#### ?\n",
        "encoder_input_data = train_data\n",
        "encoder_input_data[0,0,0] = start_symbol\n",
        "decoder_input_data = train_spec\n",
        "decoder_input_data[0,0,0] = start_symbol\n",
        "\n",
        "start = np.zeros((1,train_spec.shape[1],1))\n",
        "decoder_target_data = np.vstack((start, train_spec[:-1]))\n",
        "####\n",
        "\n",
        "encoder_inputs = Input(shape=(train_data.shape[1], 1))\n",
        "encoder = LSTM(units=latent_dim, return_state = True)\n",
        "encoder_outputs, state_h, state_c = encoder(encoder_inputs)\n",
        "encoder_states = [state_h, state_c]\n",
        "\n",
        "decoder_inputs = Input(shape=(train_spec.shape[1], 1))\n",
        "decoder_lstm = LSTM(latent_dim, return_sequences=True, return_state=True)\n",
        "decoder_outputs, _, _ = decoder_lstm(decoder_inputs, initial_state=encoder_states)\n",
        "decoder_dense = Dense(train_spec.shape[1], activation='softmax')\n",
        "decoder_outputs = decoder_dense(decoder_outputs)\n",
        "\n",
        "model = Model(inputs=[encoder_inputs, decoder_inputs], outputs=[decoder_outputs])\n",
        "\n",
        "model.compile(optimizer='adam', loss='mse', metrics=['mse'])\n",
        "\n",
        "early_stopping = EarlyStopping(patience=20, verbose=1, min_delta=1e-5)\n",
        "checkpointer = ModelCheckpoint(filepath='weights.hdf5', save_best_only=True, verbose=1)\n",
        "\n",
        "history = model.fit([encoder_input_data, decoder_input_data], decoder_target_data,\n",
        "                    validation_split=0.2, batch_size=64, epochs=1, callbacks=[checkpointer, early_stopping]) # val?"
      ],
      "metadata": {
        "colab": {
          "base_uri": "https://localhost:8080/"
        },
        "id": "akLL2vO2fzIm",
        "outputId": "6c198199-dc9e-4ee9-8a8c-226bf03567d0"
      },
      "execution_count": 14,
      "outputs": [
        {
          "output_type": "stream",
          "name": "stdout",
          "text": [
            "9/9 [==============================] - ETA: 0s - loss: 34.2520 - mse: 34.2520\n",
            "Epoch 1: val_loss improved from inf to 21.21002, saving model to weights.hdf5\n",
            "9/9 [==============================] - 18s 1s/step - loss: 34.2520 - mse: 34.2520 - val_loss: 21.2100 - val_mse: 21.2100\n"
          ]
        }
      ]
    },
    {
      "cell_type": "code",
      "source": [
        "# Inference:\n",
        "\n",
        "encoder_model = Model(encoder_inputs, encoder_states)\n",
        "\n",
        "decoder_state_input_h = Input(shape=(latent_dim,))\n",
        "decoder_state_input_c = Input(shape=(latent_dim,))\n",
        "decoder_states_inputs = [decoder_state_input_h, decoder_state_input_c]\n",
        "\n",
        "decoder_outputs, state_h, state_c = decoder_lstm(decoder_inputs, initial_state=decoder_states_inputs)\n",
        "\n",
        "decoder_states = [state_h, state_c]\n",
        "decoder_outputs = decoder_dense(decoder_outputs)\n",
        "\n",
        "decoder_model = Model(\n",
        "    [decoder_inputs] + decoder_states_inputs,\n",
        "    [decoder_outputs] + decoder_states)"
      ],
      "metadata": {
        "id": "fj5Hl9-W6tPy"
      },
      "execution_count": 15,
      "outputs": []
    },
    {
      "cell_type": "code",
      "source": [
        "# def decode_sequence2(input_seq):\n",
        "\n",
        "#   states_value = encoder_model.predict(input_seq)\n",
        "#   decoded_sentence = []\n",
        "\n",
        "#   for t in range(23):\n",
        "#     target_seq = np.zeros((1, 23, 1))\n",
        "#     target_seq[0, t, 0] = 1.\n",
        "\n",
        "#     outputs, h, c = decoder_model.predict(\n",
        "#         [target_seq] + states_value)\n",
        "\n",
        "#     decoded_sentence.append(np.argmax(outputs[0, -1, :])) # ?\n",
        "\n",
        "#     states_value = [h, c]\n",
        "\n",
        "#   return decoded_sentence"
      ],
      "metadata": {
        "id": "nTnlU0tOJgoK"
      },
      "execution_count": null,
      "outputs": []
    },
    {
      "cell_type": "code",
      "source": [
        "def decode_sequence(input_seq):\n",
        "  input_seq[0,0,0] = start_symbol\n",
        "  states_value = encoder_model.predict(input_seq)\n",
        "\n",
        "  decoded_sentence = []\n",
        "  target_seq = np.zeros((1, 23, 1))\n",
        "  target_seq[0, 0, 0] = start_symbol\n",
        "\n",
        "  for t in range(1,23):\n",
        "    \n",
        "    outputs, h, c = decoder_model.predict(\n",
        "        [target_seq] + states_value)\n",
        "\n",
        "    target_seq[0, t, 0] = np.argmax(outputs[0, -1, :])\n",
        "\n",
        "    states_value = [h, c]\n",
        "\n",
        "  return target_seq"
      ],
      "metadata": {
        "id": "BZv8LvXApair"
      },
      "execution_count": 16,
      "outputs": []
    },
    {
      "cell_type": "code",
      "source": [
        "x = test_data[0].reshape((1,300,1))\n",
        "pred = decode_sequence(x)"
      ],
      "metadata": {
        "colab": {
          "base_uri": "https://localhost:8080/"
        },
        "id": "-ownjpOF-elu",
        "outputId": "c42ec966-2756-4b49-83e3-a2a9e4082407"
      },
      "execution_count": 17,
      "outputs": [
        {
          "output_type": "stream",
          "name": "stdout",
          "text": [
            "1/1 [==============================] - 0s 447ms/step\n",
            "1/1 [==============================] - 0s 479ms/step\n",
            "1/1 [==============================] - 0s 21ms/step\n",
            "1/1 [==============================] - 0s 23ms/step\n",
            "1/1 [==============================] - 0s 22ms/step\n",
            "1/1 [==============================] - 0s 22ms/step\n",
            "1/1 [==============================] - 0s 21ms/step\n",
            "1/1 [==============================] - 0s 24ms/step\n",
            "1/1 [==============================] - 0s 21ms/step\n",
            "1/1 [==============================] - 0s 22ms/step\n",
            "1/1 [==============================] - 0s 27ms/step\n",
            "1/1 [==============================] - 0s 22ms/step\n",
            "1/1 [==============================] - 0s 21ms/step\n",
            "1/1 [==============================] - 0s 23ms/step\n",
            "1/1 [==============================] - 0s 22ms/step\n",
            "1/1 [==============================] - 0s 24ms/step\n",
            "1/1 [==============================] - 0s 22ms/step\n",
            "1/1 [==============================] - 0s 24ms/step\n",
            "1/1 [==============================] - 0s 24ms/step\n",
            "1/1 [==============================] - 0s 24ms/step\n",
            "1/1 [==============================] - 0s 24ms/step\n",
            "1/1 [==============================] - 0s 26ms/step\n",
            "1/1 [==============================] - 0s 26ms/step\n"
          ]
        }
      ]
    },
    {
      "cell_type": "code",
      "source": [
        "pred"
      ],
      "metadata": {
        "colab": {
          "base_uri": "https://localhost:8080/"
        },
        "id": "2nyuC32mGddJ",
        "outputId": "5d88fb4e-8a3a-4a3a-f2ba-1b21d74016f6"
      },
      "execution_count": 18,
      "outputs": [
        {
          "output_type": "execute_result",
          "data": {
            "text/plain": [
              "array([[[ 1.],\n",
              "        [11.],\n",
              "        [11.],\n",
              "        [11.],\n",
              "        [11.],\n",
              "        [11.],\n",
              "        [11.],\n",
              "        [11.],\n",
              "        [11.],\n",
              "        [11.],\n",
              "        [11.],\n",
              "        [11.],\n",
              "        [11.],\n",
              "        [11.],\n",
              "        [11.],\n",
              "        [11.],\n",
              "        [11.],\n",
              "        [11.],\n",
              "        [11.],\n",
              "        [11.],\n",
              "        [11.],\n",
              "        [ 3.],\n",
              "        [ 3.]]])"
            ]
          },
          "metadata": {},
          "execution_count": 18
        }
      ]
    },
    {
      "cell_type": "code",
      "source": [
        "pred.shape"
      ],
      "metadata": {
        "colab": {
          "base_uri": "https://localhost:8080/"
        },
        "id": "Ml4SqLN07Y8V",
        "outputId": "5a04e0f9-33b1-4b8e-8eeb-f1e7d46a39db"
      },
      "execution_count": 19,
      "outputs": [
        {
          "output_type": "execute_result",
          "data": {
            "text/plain": [
              "(1, 23, 1)"
            ]
          },
          "metadata": {},
          "execution_count": 19
        }
      ]
    },
    {
      "cell_type": "code",
      "source": [
        "# https://github.com/dyq0811/EEG-Transformer-seq2seq"
      ],
      "metadata": {
        "id": "xnk7t2dEDiXI"
      },
      "execution_count": null,
      "outputs": []
    }
  ]
}