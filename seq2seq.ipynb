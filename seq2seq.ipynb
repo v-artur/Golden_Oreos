{
  "nbformat": 4,
  "nbformat_minor": 0,
  "metadata": {
    "colab": {
      "provenance": [],
      "authorship_tag": "ABX9TyPbC4W0gDc6jOUzqR/6KFe0",
      "include_colab_link": true
    },
    "kernelspec": {
      "name": "python3",
      "display_name": "Python 3"
    },
    "language_info": {
      "name": "python"
    }
  },
  "cells": [
    {
      "cell_type": "markdown",
      "metadata": {
        "id": "view-in-github",
        "colab_type": "text"
      },
      "source": [
        "<a href=\"https://colab.research.google.com/github/v-artur/Golden_Oreos/blob/main/seq2seq.ipynb\" target=\"_parent\"><img src=\"https://colab.research.google.com/assets/colab-badge.svg\" alt=\"Open In Colab\"/></a>"
      ]
    },
    {
      "cell_type": "code",
      "source": [
        "!pip install gdown"
      ],
      "metadata": {
        "colab": {
          "base_uri": "https://localhost:8080/"
        },
        "id": "uRQcjeHTNXVK",
        "outputId": "a4d88f9c-a972-4bb3-b4f8-adc1bdecdb4f"
      },
      "execution_count": 1,
      "outputs": [
        {
          "output_type": "stream",
          "name": "stdout",
          "text": [
            "Looking in indexes: https://pypi.org/simple, https://us-python.pkg.dev/colab-wheels/public/simple/\n",
            "Requirement already satisfied: gdown in /usr/local/lib/python3.7/dist-packages (4.4.0)\n",
            "Requirement already satisfied: requests[socks] in /usr/local/lib/python3.7/dist-packages (from gdown) (2.23.0)\n",
            "Requirement already satisfied: filelock in /usr/local/lib/python3.7/dist-packages (from gdown) (3.8.0)\n",
            "Requirement already satisfied: beautifulsoup4 in /usr/local/lib/python3.7/dist-packages (from gdown) (4.6.3)\n",
            "Requirement already satisfied: six in /usr/local/lib/python3.7/dist-packages (from gdown) (1.15.0)\n",
            "Requirement already satisfied: tqdm in /usr/local/lib/python3.7/dist-packages (from gdown) (4.64.1)\n",
            "Requirement already satisfied: certifi>=2017.4.17 in /usr/local/lib/python3.7/dist-packages (from requests[socks]->gdown) (2022.9.24)\n",
            "Requirement already satisfied: chardet<4,>=3.0.2 in /usr/local/lib/python3.7/dist-packages (from requests[socks]->gdown) (3.0.4)\n",
            "Requirement already satisfied: urllib3!=1.25.0,!=1.25.1,<1.26,>=1.21.1 in /usr/local/lib/python3.7/dist-packages (from requests[socks]->gdown) (1.24.3)\n",
            "Requirement already satisfied: idna<3,>=2.5 in /usr/local/lib/python3.7/dist-packages (from requests[socks]->gdown) (2.10)\n",
            "Requirement already satisfied: PySocks!=1.5.7,>=1.5.6 in /usr/local/lib/python3.7/dist-packages (from requests[socks]->gdown) (1.7.1)\n"
          ]
        }
      ]
    },
    {
      "cell_type": "code",
      "source": [
        "#obtaining the data\n",
        "!gdown https://drive.google.com/uc?id=1vtZchVzl424pSQBXQ8EBxvVOzcEQPKIp\n",
        "\n",
        "#extracting it\n",
        "import zipfile\n",
        "zip_ref = zipfile.ZipFile(\"/content/features.zip\", 'r')\n",
        "zip_ref.extractall(\"/content/features\")\n",
        "zip_ref.close()"
      ],
      "metadata": {
        "colab": {
          "base_uri": "https://localhost:8080/"
        },
        "id": "wPOFvay6Nb-D",
        "outputId": "11ab4dbe-1b07-4323-c102-d5e6ff813671"
      },
      "execution_count": 2,
      "outputs": [
        {
          "output_type": "stream",
          "name": "stdout",
          "text": [
            "Downloading...\n",
            "From: https://drive.google.com/uc?id=1vtZchVzl424pSQBXQ8EBxvVOzcEQPKIp\n",
            "To: /content/features.zip\n",
            "100% 2.14G/2.14G [00:14<00:00, 146MB/s] \n"
          ]
        }
      ]
    },
    {
      "cell_type": "code",
      "source": [
        "#setting the sample \n",
        "feat_path = r'/content/features'"
      ],
      "metadata": {
        "id": "6gzQUp7vNesP"
      },
      "execution_count": 3,
      "outputs": []
    },
    {
      "cell_type": "code",
      "source": [
        "import numpy as np\n",
        "import os"
      ],
      "metadata": {
        "id": "c5LKhbRBfZ7q"
      },
      "execution_count": 4,
      "outputs": []
    },
    {
      "cell_type": "code",
      "source": [
        "train_subs = ['sub-05', 'sub-06', 'sub-07', 'sub-08', 'sub-09','sub-10']\n",
        "val_subs = ['sub-01', 'sub-02']\n",
        "test_subs = ['sub-03', 'sub-04']"
      ],
      "metadata": {
        "id": "mLEqXYqCKy2R"
      },
      "execution_count": 5,
      "outputs": []
    },
    {
      "cell_type": "code",
      "source": [
        "def concatenating_and_padding(subs):\n",
        "  whole_data = []\n",
        "  whole_spec = []\n",
        "\n",
        "  for participant in subs:\n",
        "    data = np.load(os.path.join(feat_path,f'{participant}_feat.npy'))\n",
        "    whole_data.append(data)\n",
        "    spec = np.load(os.path.join(feat_path,f'{participant}_spec.npy'))\n",
        "    whole_spec.append(spec)\n",
        "\n",
        "  new_spec = np.array(spec)\n",
        "\n",
        "  max_len = max([dat.shape[1] for dat in whole_data]) # max number of features\n",
        "  all_len = sum([dat.shape[0] for dat in whole_data]) # sum of all rows\n",
        "\n",
        "  new_data = np.zeros((all_len,max_len))\n",
        "\n",
        "  num_rows = 0\n",
        "  for sub in whole_data:\n",
        "    row_len = sub.shape[1]\n",
        "    new_data[num_rows:num_rows+sub.shape[0],0:row_len] = sub\n",
        "    num_rows += sub.shape[0]\n",
        "\n",
        "  return new_data, new_spec"
      ],
      "metadata": {
        "id": "-CWajNm0PziW"
      },
      "execution_count": 6,
      "outputs": []
    },
    {
      "cell_type": "code",
      "source": [
        "train_data, train_spec = concatenating_and_padding(train_subs)\n",
        "val_data, val_spec = concatenating_and_padding(val_subs)\n",
        "test_data, test_spec = concatenating_and_padding(test_subs)"
      ],
      "metadata": {
        "id": "WykSRtqdQNjG"
      },
      "execution_count": 7,
      "outputs": []
    },
    {
      "cell_type": "code",
      "source": [
        "train_data = train_data[:700] # csak h gyorsabb legyen\n",
        "train_spec = train_spec[:700]"
      ],
      "metadata": {
        "id": "PTD6FFXUfjYs"
      },
      "execution_count": 8,
      "outputs": []
    },
    {
      "cell_type": "code",
      "source": [
        "from sklearn.preprocessing import StandardScaler\n",
        "scaler = StandardScaler()\n",
        "train_data = scaler.fit_transform(train_data)\n",
        "val_data = scaler.transform(val_data)\n",
        "test_data = scaler.transform(test_data)\n",
        "\n",
        "from sklearn.decomposition import PCA\n",
        "pca = PCA(n_components=300)\n",
        "train_data = pca.fit_transform(train_data)\n",
        "val_data = pca.transform(val_data)\n",
        "test_data = pca.transform(test_data)"
      ],
      "metadata": {
        "id": "dwNl7AzP4bFm"
      },
      "execution_count": 9,
      "outputs": []
    },
    {
      "cell_type": "code",
      "source": [
        "train_data = train_data.reshape((train_data.shape[0],train_data.shape[1],1))\n",
        "train_spec = train_spec.reshape((train_spec.shape[0],train_spec.shape[1],1))\n",
        "\n",
        "val_data = val_data.reshape((val_data.shape[0],val_data.shape[1],1))\n",
        "val_spec = val_spec.reshape((val_spec.shape[0],val_spec.shape[1],1))\n",
        "\n",
        "test_data = test_data.reshape((test_data.shape[0],test_data.shape[1],1))\n",
        "test_spec = test_spec.reshape((test_spec.shape[0],test_spec.shape[1],1))"
      ],
      "metadata": {
        "id": "PPBDR6KVfnsl"
      },
      "execution_count": 10,
      "outputs": []
    },
    {
      "cell_type": "markdown",
      "source": [
        "## Model 1"
      ],
      "metadata": {
        "id": "utpfaN_GKThY"
      }
    },
    {
      "cell_type": "code",
      "source": [
        "from keras.models import Model\n",
        "from keras.layers import LSTM\n",
        "from keras import Input\n",
        "from tensorflow.keras.callbacks import EarlyStopping, ModelCheckpoint"
      ],
      "metadata": {
        "id": "hvFm_aBIf9ap"
      },
      "execution_count": 11,
      "outputs": []
    },
    {
      "cell_type": "code",
      "source": [
        "# https://www.kaggle.com/code/kmkarakaya/lstm-understanding-the-number-of-parameters\n",
        "\n",
        "timesteps = train_data.shape[1]             # dimensionality of the input sequence\n",
        "features = 1                          # dimensionality of each input representation in the sequence\n",
        "outputDim = train_spec.shape[1]             # dimensionality of the LSTM outputs (Hidden & Cell states)\n",
        "\n",
        "input = Input(shape=(timesteps, features))\n",
        "output = LSTM(outputDim)(input)\n",
        "model_LSTM = Model(inputs=input, outputs=output)\n",
        "\n",
        "early_stopping=EarlyStopping(patience=25, verbose=1, min_delta=1e-5)\n",
        "checkpointer = ModelCheckpoint(filepath='weights-lstm.hdf5', save_best_only=True, verbose=1)\n",
        "\n",
        "model_LSTM.compile(loss='mse', optimizer='adam', metrics=['mse'])\n",
        "model_LSTM.fit(train_data, train_spec, epochs=2, validation_split=0.2, batch_size=64, verbose=1, callbacks=[checkpointer, early_stopping])"
      ],
      "metadata": {
        "colab": {
          "base_uri": "https://localhost:8080/"
        },
        "id": "0PygCxrnfp7U",
        "outputId": "7698dea3-6da4-40b6-f8ca-6931f14f26c6"
      },
      "execution_count": 12,
      "outputs": [
        {
          "output_type": "stream",
          "name": "stdout",
          "text": [
            "Epoch 1/2\n",
            "9/9 [==============================] - ETA: 0s - loss: 34.7201 - mse: 34.7201\n",
            "Epoch 1: val_loss improved from inf to 21.97167, saving model to weights-lstm.hdf5\n",
            "9/9 [==============================] - 4s 175ms/step - loss: 34.7201 - mse: 34.7201 - val_loss: 21.9717 - val_mse: 21.9717\n",
            "Epoch 2/2\n",
            "9/9 [==============================] - ETA: 0s - loss: 34.5857 - mse: 34.5857\n",
            "Epoch 2: val_loss improved from 21.97167 to 21.82539, saving model to weights-lstm.hdf5\n",
            "9/9 [==============================] - 1s 106ms/step - loss: 34.5857 - mse: 34.5857 - val_loss: 21.8254 - val_mse: 21.8254\n"
          ]
        },
        {
          "output_type": "execute_result",
          "data": {
            "text/plain": [
              "<keras.callbacks.History at 0x7fb1d5822cd0>"
            ]
          },
          "metadata": {},
          "execution_count": 12
        }
      ]
    },
    {
      "cell_type": "code",
      "source": [
        "x = test_data[0].reshape((1,300,1))\n",
        "model_LSTM.predict(x)"
      ],
      "metadata": {
        "colab": {
          "base_uri": "https://localhost:8080/"
        },
        "id": "WPIrGpRYfvZc",
        "outputId": "aa870ee9-293c-481b-e90f-43eaa9940ed8"
      },
      "execution_count": 13,
      "outputs": [
        {
          "output_type": "stream",
          "name": "stdout",
          "text": [
            "1/1 [==============================] - 0s 474ms/step\n"
          ]
        },
        {
          "output_type": "execute_result",
          "data": {
            "text/plain": [
              "array([[ 0.19047317,  0.11300802, -0.0562416 ,  0.1854597 , -0.04149593,\n",
              "         0.13744809, -0.06615608, -0.08902228, -0.01418066, -0.01384181,\n",
              "        -0.13190113,  0.16322798, -0.12617923, -0.03840696, -0.04857381,\n",
              "        -0.1471344 ,  0.10945389,  0.26034775, -0.02045478, -0.07043382,\n",
              "         0.04169636,  0.13499652, -0.15371354]], dtype=float32)"
            ]
          },
          "metadata": {},
          "execution_count": 13
        }
      ]
    },
    {
      "cell_type": "markdown",
      "source": [
        "## Model 2"
      ],
      "metadata": {
        "id": "Z4q3-S2nKVwg"
      }
    },
    {
      "cell_type": "markdown",
      "source": [
        "https://blog.keras.io/a-ten-minute-introduction-to-sequence-to-sequence-learning-in-keras.html"
      ],
      "metadata": {
        "id": "iJku1HRh-W28"
      }
    },
    {
      "cell_type": "code",
      "source": [
        "from keras.models import Model\n",
        "from keras.layers import Input, LSTM, Dense\n",
        "\n",
        "latent_dim = 128\n",
        "start_symbol = 1.\n",
        "\n",
        "#### ?\n",
        "encoder_input_data = train_data\n",
        "encoder_input_data[0,0,0] = start_symbol\n",
        "decoder_input_data = train_spec\n",
        "decoder_input_data[0,0,0] = start_symbol\n",
        "\n",
        "start = np.zeros((1,train_spec.shape[1],1))\n",
        "decoder_target_data = np.vstack((start, train_spec[:-1]))\n",
        "####\n",
        "\n",
        "encoder_inputs = Input(shape=(train_data.shape[1], 1))\n",
        "encoder = LSTM(units=latent_dim, return_state = True)\n",
        "encoder_outputs, state_h, state_c = encoder(encoder_inputs)\n",
        "encoder_states = [state_h, state_c]\n",
        "\n",
        "decoder_inputs = Input(shape=(train_spec.shape[1], 1))\n",
        "decoder_lstm = LSTM(latent_dim, return_sequences=True, return_state=True)\n",
        "decoder_outputs, _, _ = decoder_lstm(decoder_inputs, initial_state=encoder_states)\n",
        "decoder_dense = Dense(train_spec.shape[1], activation='softmax')\n",
        "decoder_outputs = decoder_dense(decoder_outputs)\n",
        "\n",
        "model = Model(inputs=[encoder_inputs, decoder_inputs], outputs=[decoder_outputs])\n",
        "\n",
        "model.compile(optimizer='adam', loss='mse', metrics=['mse'])\n",
        "\n",
        "early_stopping = EarlyStopping(patience=20, verbose=1, min_delta=1e-5)\n",
        "checkpointer = ModelCheckpoint(filepath='weights.hdf5', save_best_only=True, verbose=1)\n",
        "\n",
        "history = model.fit([encoder_input_data, decoder_input_data], decoder_target_data,\n",
        "                    validation_split=0.2, batch_size=64, epochs=1, callbacks=[checkpointer, early_stopping]) # val?"
      ],
      "metadata": {
        "colab": {
          "base_uri": "https://localhost:8080/"
        },
        "id": "akLL2vO2fzIm",
        "outputId": "9e4926dd-db4e-4f89-db07-e2001a2bafc2"
      },
      "execution_count": 14,
      "outputs": [
        {
          "output_type": "stream",
          "name": "stdout",
          "text": [
            "9/9 [==============================] - ETA: 0s - loss: 34.2520 - mse: 34.2520\n",
            "Epoch 1: val_loss improved from inf to 21.21002, saving model to weights.hdf5\n",
            "9/9 [==============================] - 10s 689ms/step - loss: 34.2520 - mse: 34.2520 - val_loss: 21.2100 - val_mse: 21.2100\n"
          ]
        }
      ]
    },
    {
      "cell_type": "code",
      "source": [
        "# Inference:\n",
        "\n",
        "encoder_model = Model(encoder_inputs, encoder_states)\n",
        "\n",
        "decoder_state_input_h = Input(shape=(latent_dim,))\n",
        "decoder_state_input_c = Input(shape=(latent_dim,))\n",
        "decoder_states_inputs = [decoder_state_input_h, decoder_state_input_c]\n",
        "\n",
        "decoder_outputs, state_h, state_c = decoder_lstm(decoder_inputs, initial_state=decoder_states_inputs)\n",
        "\n",
        "decoder_states = [state_h, state_c]\n",
        "decoder_outputs = decoder_dense(decoder_outputs)\n",
        "\n",
        "decoder_model = Model(\n",
        "    [decoder_inputs] + decoder_states_inputs,\n",
        "    [decoder_outputs] + decoder_states)"
      ],
      "metadata": {
        "id": "fj5Hl9-W6tPy"
      },
      "execution_count": 15,
      "outputs": []
    },
    {
      "cell_type": "code",
      "source": [
        "# def decode_sequence2(input_seq):\n",
        "\n",
        "#   states_value = encoder_model.predict(input_seq)\n",
        "#   decoded_sentence = []\n",
        "\n",
        "#   for t in range(23):\n",
        "#     target_seq = np.zeros((1, 23, 1))\n",
        "#     target_seq[0, t, 0] = 1.\n",
        "\n",
        "#     outputs, h, c = decoder_model.predict(\n",
        "#         [target_seq] + states_value)\n",
        "\n",
        "#     decoded_sentence.append(np.argmax(outputs[0, -1, :])) # ?\n",
        "\n",
        "#     states_value = [h, c]\n",
        "\n",
        "#   return decoded_sentence"
      ],
      "metadata": {
        "id": "nTnlU0tOJgoK"
      },
      "execution_count": 16,
      "outputs": []
    },
    {
      "cell_type": "code",
      "source": [
        "def decode_sequence(input_seq):\n",
        "  input_seq[0,0,0] = start_symbol\n",
        "  states_value = encoder_model.predict(input_seq)\n",
        "\n",
        "  decoded_sentence = []\n",
        "  target_seq = np.zeros((1, 23, 1))\n",
        "  target_seq[0, 0, 0] = start_symbol\n",
        "\n",
        "  for t in range(1,23):\n",
        "    \n",
        "    outputs, h, c = decoder_model.predict(\n",
        "        [target_seq] + states_value)\n",
        "\n",
        "    target_seq[0, t, 0] = np.argmax(outputs[0, -1, :])\n",
        "\n",
        "    states_value = [h, c]\n",
        "\n",
        "  return target_seq"
      ],
      "metadata": {
        "id": "BZv8LvXApair"
      },
      "execution_count": 17,
      "outputs": []
    },
    {
      "cell_type": "code",
      "source": [
        "x = test_data[0].reshape((1,300,1))\n",
        "pred = decode_sequence(x)"
      ],
      "metadata": {
        "colab": {
          "base_uri": "https://localhost:8080/"
        },
        "id": "-ownjpOF-elu",
        "outputId": "0a9f1daa-5e2e-47ac-a2fb-f4310165c647"
      },
      "execution_count": 18,
      "outputs": [
        {
          "output_type": "stream",
          "name": "stdout",
          "text": [
            "1/1 [==============================] - 0s 452ms/step\n",
            "1/1 [==============================] - 0s 447ms/step\n",
            "1/1 [==============================] - 0s 23ms/step\n",
            "1/1 [==============================] - 0s 21ms/step\n",
            "1/1 [==============================] - 0s 20ms/step\n",
            "1/1 [==============================] - 0s 21ms/step\n",
            "1/1 [==============================] - 0s 22ms/step\n",
            "1/1 [==============================] - 0s 22ms/step\n",
            "1/1 [==============================] - 0s 22ms/step\n",
            "1/1 [==============================] - 0s 23ms/step\n",
            "1/1 [==============================] - 0s 22ms/step\n",
            "1/1 [==============================] - 0s 25ms/step\n",
            "1/1 [==============================] - 0s 21ms/step\n",
            "1/1 [==============================] - 0s 22ms/step\n",
            "1/1 [==============================] - 0s 31ms/step\n",
            "1/1 [==============================] - 0s 23ms/step\n",
            "1/1 [==============================] - 0s 32ms/step\n",
            "1/1 [==============================] - 0s 27ms/step\n",
            "1/1 [==============================] - 0s 21ms/step\n",
            "1/1 [==============================] - 0s 24ms/step\n",
            "1/1 [==============================] - 0s 21ms/step\n",
            "1/1 [==============================] - 0s 21ms/step\n",
            "1/1 [==============================] - 0s 22ms/step\n"
          ]
        }
      ]
    },
    {
      "cell_type": "code",
      "source": [
        "pred"
      ],
      "metadata": {
        "colab": {
          "base_uri": "https://localhost:8080/"
        },
        "id": "2nyuC32mGddJ",
        "outputId": "608042fa-3f4a-47ae-a51e-d6090a54de23"
      },
      "execution_count": 19,
      "outputs": [
        {
          "output_type": "execute_result",
          "data": {
            "text/plain": [
              "array([[[1.],\n",
              "        [2.],\n",
              "        [2.],\n",
              "        [2.],\n",
              "        [2.],\n",
              "        [2.],\n",
              "        [2.],\n",
              "        [2.],\n",
              "        [2.],\n",
              "        [2.],\n",
              "        [2.],\n",
              "        [2.],\n",
              "        [2.],\n",
              "        [2.],\n",
              "        [2.],\n",
              "        [2.],\n",
              "        [2.],\n",
              "        [2.],\n",
              "        [2.],\n",
              "        [1.],\n",
              "        [1.],\n",
              "        [1.],\n",
              "        [1.]]])"
            ]
          },
          "metadata": {},
          "execution_count": 19
        }
      ]
    },
    {
      "cell_type": "code",
      "source": [
        "pred.shape"
      ],
      "metadata": {
        "colab": {
          "base_uri": "https://localhost:8080/"
        },
        "id": "Ml4SqLN07Y8V",
        "outputId": "76b4c7f2-bcb8-4d31-8be2-8798d1dbd93d"
      },
      "execution_count": 20,
      "outputs": [
        {
          "output_type": "execute_result",
          "data": {
            "text/plain": [
              "(1, 23, 1)"
            ]
          },
          "metadata": {},
          "execution_count": 20
        }
      ]
    },
    {
      "cell_type": "code",
      "source": [
        "# https://github.com/dyq0811/EEG-Transformer-seq2seq"
      ],
      "metadata": {
        "id": "xnk7t2dEDiXI"
      },
      "execution_count": 21,
      "outputs": []
    }
  ]
}