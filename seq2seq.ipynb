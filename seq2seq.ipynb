{
  "nbformat": 4,
  "nbformat_minor": 0,
  "metadata": {
    "colab": {
      "provenance": [],
      "include_colab_link": true
    },
    "kernelspec": {
      "name": "python3",
      "display_name": "Python 3"
    },
    "language_info": {
      "name": "python"
    },
    "gpuClass": "standard",
    "accelerator": "GPU"
  },
  "cells": [
    {
      "cell_type": "markdown",
      "metadata": {
        "id": "view-in-github",
        "colab_type": "text"
      },
      "source": [
        "<a href=\"https://colab.research.google.com/github/v-artur/Golden_Oreos/blob/main/seq2seq.ipynb\" target=\"_parent\"><img src=\"https://colab.research.google.com/assets/colab-badge.svg\" alt=\"Open In Colab\"/></a>"
      ]
    },
    {
      "cell_type": "code",
      "source": [
        "!pip install gdown\n",
        "!pip install fastdtw\n",
        "!pip install pysptk\n",
        "!pip install pyworld"
      ],
      "metadata": {
        "id": "uRQcjeHTNXVK",
        "colab": {
          "base_uri": "https://localhost:8080/"
        },
        "outputId": "16b59da1-c418-45ad-e77b-203d5f488b29"
      },
      "execution_count": 1,
      "outputs": [
        {
          "output_type": "stream",
          "name": "stdout",
          "text": [
            "Looking in indexes: https://pypi.org/simple, https://us-python.pkg.dev/colab-wheels/public/simple/\n",
            "Requirement already satisfied: gdown in /usr/local/lib/python3.7/dist-packages (4.4.0)\n",
            "Requirement already satisfied: tqdm in /usr/local/lib/python3.7/dist-packages (from gdown) (4.64.1)\n",
            "Requirement already satisfied: filelock in /usr/local/lib/python3.7/dist-packages (from gdown) (3.8.0)\n",
            "Requirement already satisfied: beautifulsoup4 in /usr/local/lib/python3.7/dist-packages (from gdown) (4.6.3)\n",
            "Requirement already satisfied: six in /usr/local/lib/python3.7/dist-packages (from gdown) (1.15.0)\n",
            "Requirement already satisfied: requests[socks] in /usr/local/lib/python3.7/dist-packages (from gdown) (2.23.0)\n",
            "Requirement already satisfied: urllib3!=1.25.0,!=1.25.1,<1.26,>=1.21.1 in /usr/local/lib/python3.7/dist-packages (from requests[socks]->gdown) (1.24.3)\n",
            "Requirement already satisfied: chardet<4,>=3.0.2 in /usr/local/lib/python3.7/dist-packages (from requests[socks]->gdown) (3.0.4)\n",
            "Requirement already satisfied: certifi>=2017.4.17 in /usr/local/lib/python3.7/dist-packages (from requests[socks]->gdown) (2022.9.24)\n",
            "Requirement already satisfied: idna<3,>=2.5 in /usr/local/lib/python3.7/dist-packages (from requests[socks]->gdown) (2.10)\n",
            "Requirement already satisfied: PySocks!=1.5.7,>=1.5.6 in /usr/local/lib/python3.7/dist-packages (from requests[socks]->gdown) (1.7.1)\n",
            "Looking in indexes: https://pypi.org/simple, https://us-python.pkg.dev/colab-wheels/public/simple/\n",
            "Requirement already satisfied: fastdtw in /usr/local/lib/python3.7/dist-packages (0.3.4)\n",
            "Requirement already satisfied: numpy in /usr/local/lib/python3.7/dist-packages (from fastdtw) (1.21.6)\n",
            "Looking in indexes: https://pypi.org/simple, https://us-python.pkg.dev/colab-wheels/public/simple/\n",
            "Requirement already satisfied: pysptk in /usr/local/lib/python3.7/dist-packages (0.2.0)\n",
            "Requirement already satisfied: cython>=0.28.0 in /usr/local/lib/python3.7/dist-packages (from pysptk) (0.29.32)\n",
            "Requirement already satisfied: scipy in /usr/local/lib/python3.7/dist-packages (from pysptk) (1.7.3)\n",
            "Requirement already satisfied: decorator in /usr/local/lib/python3.7/dist-packages (from pysptk) (4.4.2)\n",
            "Requirement already satisfied: numpy<1.23.0,>=1.16.5 in /usr/local/lib/python3.7/dist-packages (from scipy->pysptk) (1.21.6)\n",
            "Looking in indexes: https://pypi.org/simple, https://us-python.pkg.dev/colab-wheels/public/simple/\n",
            "Requirement already satisfied: pyworld in /usr/local/lib/python3.7/dist-packages (0.3.2)\n",
            "Requirement already satisfied: numpy in /usr/local/lib/python3.7/dist-packages (from pyworld) (1.21.6)\n",
            "Requirement already satisfied: cython in /usr/local/lib/python3.7/dist-packages (from pyworld) (0.29.32)\n"
          ]
        }
      ]
    },
    {
      "cell_type": "code",
      "source": [
        "#obtaining the data\n",
        "!gdown https://drive.google.com/uc?id=1vtZchVzl424pSQBXQ8EBxvVOzcEQPKIp\n",
        "#reconstruction module\n",
        "!gdown https://drive.google.com/u/0/uc?id=1KYJD7INBZJ4Wip_ok6nGaJNGHZOCl8ra\n",
        "#Melfiltebank applier\n",
        "!gdown https://drive.google.com/u/0/uc?id=16XwS13GUAa7HuJv1Yi1XP6lQm0Gz42Ho\n",
        "\n",
        "#extracting it\n",
        "import zipfile\n",
        "zip_ref = zipfile.ZipFile(\"/content/features.zip\", 'r')\n",
        "zip_ref.extractall(\"/content/features\")\n",
        "zip_ref.close()"
      ],
      "metadata": {
        "colab": {
          "base_uri": "https://localhost:8080/"
        },
        "id": "wPOFvay6Nb-D",
        "outputId": "b7aea9a4-a72e-4ab1-f647-f64ceb68e57c"
      },
      "execution_count": 2,
      "outputs": [
        {
          "output_type": "stream",
          "name": "stdout",
          "text": [
            "Downloading...\n",
            "From: https://drive.google.com/uc?id=1vtZchVzl424pSQBXQ8EBxvVOzcEQPKIp\n",
            "To: /content/features.zip\n",
            "100% 2.14G/2.14G [00:09<00:00, 218MB/s]\n",
            "Downloading...\n",
            "From: https://drive.google.com/u/0/uc?id=1KYJD7INBZJ4Wip_ok6nGaJNGHZOCl8ra\n",
            "To: /content/reconstructWave.py\n",
            "100% 3.02k/3.02k [00:00<00:00, 4.28MB/s]\n",
            "Downloading...\n",
            "From: https://drive.google.com/u/0/uc?id=16XwS13GUAa7HuJv1Yi1XP6lQm0Gz42Ho\n",
            "To: /content/MelFilterBank.py\n",
            "100% 2.87k/2.87k [00:00<00:00, 4.15MB/s]\n"
          ]
        }
      ]
    },
    {
      "cell_type": "code",
      "source": [
        "#this folder will be needed for the evaluation\n",
        "!mkdir synth_audio_dnn   # FC-DNN"
      ],
      "metadata": {
        "colab": {
          "base_uri": "https://localhost:8080/"
        },
        "id": "tLV0sWoRQAsJ",
        "outputId": "3e5eb31a-696a-4c2c-85ce-fb37f07afe05"
      },
      "execution_count": 3,
      "outputs": [
        {
          "output_type": "stream",
          "name": "stdout",
          "text": [
            "mkdir: cannot create directory ‘synth_audio_dnn’: File exists\n"
          ]
        }
      ]
    },
    {
      "cell_type": "code",
      "source": [
        "#setting the path\n",
        "feat_path = r'/content/features'\n",
        "\n",
        "# the subjects for each set\n",
        "train_subs = ['sub-05', 'sub-06', 'sub-07', 'sub-08', 'sub-09','sub-10']\n",
        "val_subs = ['sub-01', 'sub-02']\n",
        "test_subs = ['sub-03', 'sub-04']"
      ],
      "metadata": {
        "id": "6gzQUp7vNesP"
      },
      "execution_count": 4,
      "outputs": []
    },
    {
      "cell_type": "code",
      "source": [
        "from sklearn.decomposition import PCA\n",
        "from sklearn.preprocessing import StandardScaler\n",
        "import numpy as np\n",
        "import os\n",
        "\n",
        "# making the train, validation and test sets with Principal Component Analysis \n",
        "def make_set(subs, n_comp):\n",
        "  whole_data = []\n",
        "  whole_spec = []\n",
        "\n",
        "  for participant in subs:\n",
        "    #features with PCA\n",
        "    data = np.load(os.path.join(feat_path,f'{participant}_feat.npy'))\n",
        "    scaler = StandardScaler()\n",
        "    data = scaler.fit_transform(data)\n",
        "    pca = PCA(n_components=n_comp, random_state=0)\n",
        "    data = pca.fit_transform(data)\n",
        "    whole_data.append(data)\n",
        "    #labels\n",
        "    spec = np.load(os.path.join(feat_path,f'{participant}_spec.npy'))\n",
        "    whole_spec.append(spec)\n",
        "  \n",
        "  features = np.vstack(tuple(whole_data))\n",
        "  labels = np.vstack(tuple(whole_spec))\n",
        "\n",
        "  return features, labels\n",
        "\n",
        "train_data, train_spec = make_set(train_subs, 300)\n",
        "val_data, val_spec = make_set(val_subs, 300)\n",
        "test_data, test_spec = make_set(test_subs, 300)  "
      ],
      "metadata": {
        "id": "dyuI0utTk8VF"
      },
      "execution_count": 5,
      "outputs": []
    },
    {
      "cell_type": "markdown",
      "source": [
        "# Modeling"
      ],
      "metadata": {
        "id": "sj4kuKk7vo88"
      }
    },
    {
      "cell_type": "code",
      "source": [
        "#Setting seed\n",
        "import tensorflow as tf\n",
        "tf.keras.utils.set_random_seed(1234)"
      ],
      "metadata": {
        "id": "46Mn8t8LRRd8"
      },
      "execution_count": 6,
      "outputs": []
    },
    {
      "cell_type": "markdown",
      "source": [
        "Simple FC-DNN model"
      ],
      "metadata": {
        "id": "Df3oSMwBndsT"
      }
    },
    {
      "cell_type": "code",
      "source": [
        "from tensorflow.keras import regularizers, models\n",
        "from tensorflow.keras.callbacks import EarlyStopping, ModelCheckpoint\n",
        "from tensorflow.keras.layers import Dense, Dropout, Input\n",
        "\n",
        "def create_dnn_model(inputsize, outputsize):\n",
        "    model = tf.keras.Sequential()\n",
        "    model.add(tf.keras.layers.Input(shape=(inputsize)))\n",
        "    model.add(tf.keras.layers.Dense(400, activation=\"relu\", kernel_initializer='HeNormal'))\n",
        "    model.add(tf.keras.layers.Dropout(0.3))\n",
        "    model.add(tf.keras.layers.Dense(300, activation=\"relu\", kernel_initializer='HeNormal'))\n",
        "    model.add(tf.keras.layers.Dropout(0.2))\n",
        "    model.add(tf.keras.layers.Dense(200, activation=\"relu\", kernel_initializer='HeNormal'))\n",
        "    model.add(tf.keras.layers.Dropout(0.2))\n",
        "    model.add(tf.keras.layers.Dense(100, activation=\"relu\", kernel_initializer='HeNormal'))\n",
        "    model.add(tf.keras.layers.Dropout(0.2))\n",
        "    model.add(tf.keras.layers.Dense(outputsize))\n",
        "    return model"
      ],
      "metadata": {
        "id": "KGlcPhkJnSAC"
      },
      "execution_count": 7,
      "outputs": []
    },
    {
      "cell_type": "code",
      "source": [
        "early_stopping = EarlyStopping(patience=10, verbose=1, min_delta=1e-5)\n",
        "checkpointer = ModelCheckpoint(filepath='weights.hdf5', save_best_only=True, verbose=1)\n",
        "\n",
        "model = create_dnn_model(300, 23)\n",
        "model.compile(loss='mse', optimizer='adam', metrics=['mse'])\n",
        "model.fit(train_data, train_spec, batch_size=64, \n",
        "          epochs=100, verbose=1, validation_data=(val_data, val_spec), shuffle=True,\n",
        "          callbacks=[checkpointer, early_stopping])"
      ],
      "metadata": {
        "id": "qD7NdeW8gxW8",
        "outputId": "e4295cc8-0684-4d22-d48e-f625ab162090",
        "colab": {
          "base_uri": "https://localhost:8080/"
        }
      },
      "execution_count": 8,
      "outputs": [
        {
          "output_type": "stream",
          "name": "stdout",
          "text": [
            "Epoch 1/100\n",
            "2775/2788 [============================>.] - ETA: 0s - loss: 3.8741 - mse: 3.8741\n",
            "Epoch 1: val_loss improved from inf to 4.50437, saving model to weights.hdf5\n",
            "2788/2788 [==============================] - 15s 4ms/step - loss: 3.8697 - mse: 3.8697 - val_loss: 4.5044 - val_mse: 4.5044\n",
            "Epoch 2/100\n",
            "2778/2788 [============================>.] - ETA: 0s - loss: 2.6082 - mse: 2.6082\n",
            "Epoch 2: val_loss did not improve from 4.50437\n",
            "2788/2788 [==============================] - 12s 4ms/step - loss: 2.6075 - mse: 2.6075 - val_loss: 4.6449 - val_mse: 4.6449\n",
            "Epoch 3/100\n",
            "2782/2788 [============================>.] - ETA: 0s - loss: 2.2491 - mse: 2.2491\n",
            "Epoch 3: val_loss did not improve from 4.50437\n",
            "2788/2788 [==============================] - 10s 4ms/step - loss: 2.2493 - mse: 2.2493 - val_loss: 4.6520 - val_mse: 4.6520\n",
            "Epoch 4/100\n",
            "2786/2788 [============================>.] - ETA: 0s - loss: 1.9931 - mse: 1.9931\n",
            "Epoch 4: val_loss did not improve from 4.50437\n",
            "2788/2788 [==============================] - 10s 4ms/step - loss: 1.9930 - mse: 1.9930 - val_loss: 4.7255 - val_mse: 4.7255\n",
            "Epoch 5/100\n",
            "2786/2788 [============================>.] - ETA: 0s - loss: 1.8361 - mse: 1.8361\n",
            "Epoch 5: val_loss did not improve from 4.50437\n",
            "2788/2788 [==============================] - 11s 4ms/step - loss: 1.8359 - mse: 1.8359 - val_loss: 4.7281 - val_mse: 4.7281\n",
            "Epoch 6/100\n",
            "2775/2788 [============================>.] - ETA: 0s - loss: 1.7168 - mse: 1.7168\n",
            "Epoch 6: val_loss did not improve from 4.50437\n",
            "2788/2788 [==============================] - 10s 4ms/step - loss: 1.7162 - mse: 1.7162 - val_loss: 4.8402 - val_mse: 4.8402\n",
            "Epoch 7/100\n",
            "2778/2788 [============================>.] - ETA: 0s - loss: 1.6023 - mse: 1.6023\n",
            "Epoch 7: val_loss did not improve from 4.50437\n",
            "2788/2788 [==============================] - 11s 4ms/step - loss: 1.6017 - mse: 1.6017 - val_loss: 4.8207 - val_mse: 4.8207\n",
            "Epoch 8/100\n",
            "2783/2788 [============================>.] - ETA: 0s - loss: 1.5043 - mse: 1.5043\n",
            "Epoch 8: val_loss did not improve from 4.50437\n",
            "2788/2788 [==============================] - 11s 4ms/step - loss: 1.5045 - mse: 1.5045 - val_loss: 4.9449 - val_mse: 4.9449\n",
            "Epoch 9/100\n",
            "2785/2788 [============================>.] - ETA: 0s - loss: 1.4441 - mse: 1.4441\n",
            "Epoch 9: val_loss did not improve from 4.50437\n",
            "2788/2788 [==============================] - 11s 4ms/step - loss: 1.4441 - mse: 1.4441 - val_loss: 4.9560 - val_mse: 4.9560\n",
            "Epoch 10/100\n",
            "2774/2788 [============================>.] - ETA: 0s - loss: 1.3960 - mse: 1.3960\n",
            "Epoch 10: val_loss did not improve from 4.50437\n",
            "2788/2788 [==============================] - 11s 4ms/step - loss: 1.3961 - mse: 1.3961 - val_loss: 4.9939 - val_mse: 4.9939\n",
            "Epoch 11/100\n",
            "2777/2788 [============================>.] - ETA: 0s - loss: 1.3609 - mse: 1.3609\n",
            "Epoch 11: val_loss did not improve from 4.50437\n",
            "2788/2788 [==============================] - 11s 4ms/step - loss: 1.3608 - mse: 1.3608 - val_loss: 4.9476 - val_mse: 4.9476\n",
            "Epoch 11: early stopping\n"
          ]
        },
        {
          "output_type": "execute_result",
          "data": {
            "text/plain": [
              "<keras.callbacks.History at 0x7fa04042ca90>"
            ]
          },
          "metadata": {},
          "execution_count": 8
        }
      ]
    },
    {
      "cell_type": "code",
      "source": [
        "model.load_weights('weights.hdf5')\n",
        "rec_spec = model.predict(test_data)"
      ],
      "metadata": {
        "id": "i_D3XCS41Hb2",
        "outputId": "c5617361-71f3-459e-b770-96c449bfd79c",
        "colab": {
          "base_uri": "https://localhost:8080/"
        }
      },
      "execution_count": 9,
      "outputs": [
        {
          "output_type": "stream",
          "name": "stdout",
          "text": [
            "1875/1875 [==============================] - 3s 1ms/step\n"
          ]
        }
      ]
    },
    {
      "cell_type": "code",
      "source": [
        "from scipy.stats import pearsonr\n",
        "import scipy.io.wavfile as wavfile\n",
        "\n",
        "rs = np.zeros((test_spec.shape[1]))\n",
        "\n",
        "# Evaluate reconstruction of this fold\n",
        "for specBin in range(test_spec.shape[1]):\n",
        "  r, p = pearsonr(test_spec[:, specBin], rec_spec[:, specBin])\n",
        "  rs[specBin] = r\n",
        "\n",
        "#Show evaluation result\n",
        "print('Mean correlation:', np.mean(rs))"
      ],
      "metadata": {
        "colab": {
          "base_uri": "https://localhost:8080/"
        },
        "id": "Tr45VqGhRwT4",
        "outputId": "75cf4efc-eb06-445f-c9f8-e974887c511a"
      },
      "execution_count": 10,
      "outputs": [
        {
          "output_type": "stream",
          "name": "stdout",
          "text": [
            "Mean correlation: -0.003959646429800663\n"
          ]
        }
      ]
    },
    {
      "cell_type": "code",
      "source": [
        "#For audio reconstruction and MCD measure \n",
        "#dependencies\n",
        "import reconstructWave as rW\n",
        "import MelFilterBank as mel\n",
        "import numpy as np\n",
        "import librosa\n",
        "from scipy.io import wavfile\n",
        "import pysptk\n",
        "from scipy.spatial.distance import euclidean\n",
        "import os\n",
        "from fastdtw import fastdtw\n",
        "\n",
        "# functions for MCD calculations \n",
        "# (source: https://github.com/ttslr/python-MCD?fbclid=IwAR2OFaz3-8kTfhJXC7F-cmTTHkY-egEzZdSYHsC0agwPw58N2G3hqhfdVNY)\n",
        "\n",
        "\n",
        "#The following function converts a wav file into a format which can be used to evaluate the MCD score\n",
        "def readmgc(filename):\n",
        "    sr, x = wavfile.read(filename)\n",
        "    assert sr == 16000\n",
        "    x = x.astype(np.float64)\n",
        "    frame_length = 1024\n",
        "    hop_length = 256  \n",
        "    frames = librosa.util.frame(x, frame_length=frame_length, hop_length=hop_length).astype(np.float64).T\n",
        "    frames *= pysptk.blackman(frame_length)\n",
        "    assert frames.shape[1] == frame_length \n",
        "    order = 25\n",
        "    alpha = 0.41\n",
        "    stage = 5\n",
        "    gamma = -1.0 / stage\n",
        "\n",
        "    mgc = pysptk.mgcep(frames, order, alpha, gamma)\n",
        "    mgc = mgc.reshape(-1, order + 1)\n",
        "    print(\"mgc of {} is ok!\".format(filename))\n",
        "    return mgc\n",
        "\n",
        "\n",
        "# variable for the compute_mcd function \n",
        "natural_folder = '/content/features/'\n",
        "\n",
        "\n",
        "#this function returns the average MCD score for the reconstructed WAV file by a chosen model\n",
        "def compute_mcd(synth_folder):\n",
        "  '''\n",
        "  :param synth_folder: the folder in which the reconstructed WAV file can be found\n",
        "  '''\n",
        "  #computational parameters\n",
        "  _logdb_const = 10.0 / np.log(10.0) * np.sqrt(2.0)\n",
        "  s = 0.0\n",
        "  framesTot = 0\n",
        "\n",
        "  # computing the MCD\n",
        "  files = os.listdir(synth_folder)\n",
        "  for subject in files:\n",
        "    print(\"Processing -----------{}\".format(subject))\n",
        "    \n",
        "\n",
        "    # obtaining the mgc features\n",
        "    subject_ID = subject[0:6]\n",
        "    filename1 = natural_folder + subject_ID + '_orig_audio.wav'\n",
        "    mgc1 = readmgc(filename1)\n",
        "    filename2 = synth_folder + subject_ID + '_predicted.wav'\n",
        "    mgc2 = readmgc(filename2)\n",
        "  \n",
        "    x = mgc1\n",
        "    y = mgc2\n",
        "    \n",
        "    # calculating the mcd\n",
        "    distance, path = fastdtw(x, y, dist=euclidean)\n",
        "  \n",
        "    distance/= (len(x) + len(y))\n",
        "    pathx = list(map(lambda l: l[0], path))\n",
        "    pathy = list(map(lambda l: l[1], path))\n",
        "    x, y = x[pathx], y[pathy]\n",
        "\n",
        "    frames = x.shape[0]\n",
        "    framesTot  += frames\n",
        "\n",
        "    z = x - y\n",
        "    s += np.sqrt((z * z).sum(-1)).sum()\n",
        "\n",
        "  MCD_value = _logdb_const * float(s) / float(framesTot)\n",
        "\n",
        "  print(\"MCD = : {:f}\".format(MCD_value))\n",
        "\n",
        "\n",
        "#Reconstructing the WAV file from the predicted mel-log spectrogram (Griffin-Lim method)\n",
        "def createAudio(spectrogram, audiosr=16000, winLength=0.05, frameshift=0.01):\n",
        "    mfb = mel.MelFilterBank(int((audiosr*winLength)/2+1), spectrogram.shape[1], audiosr)\n",
        "    hop = int(spectrogram.shape[0])\n",
        "    rec_audio = np.array([])\n",
        "    for_reconstruction = mfb.fromLogMels(spectrogram)\n",
        "    for w in range(0,spectrogram.shape[0],hop):\n",
        "        spec = for_reconstruction[w:min(w+hop,for_reconstruction.shape[0]),:]\n",
        "        rec = rW.reconstructWavFromSpectrogram(spec,spec.shape[0]*spec.shape[1],fftsize=int(audiosr*winLength),overlap=int(winLength/frameshift))\n",
        "        rec_audio = np.append(rec_audio,rec)\n",
        "    scaled = np.int16(rec_audio/np.max(np.abs(rec_audio)) * 32767)\n",
        "    return scaled"
      ],
      "metadata": {
        "id": "vi5_r48WQTJx"
      },
      "execution_count": 11,
      "outputs": []
    },
    {
      "cell_type": "code",
      "source": [
        "#Audio Reconstruction parameters\n",
        "winLength = 0.05\n",
        "frameshift = 0.01\n",
        "audiosr = 16000"
      ],
      "metadata": {
        "id": "tyqJawn9RvC_"
      },
      "execution_count": 12,
      "outputs": []
    },
    {
      "cell_type": "code",
      "source": [
        "#Make and save the synthesized audio\n",
        "reconstructedWav = createAudio(rec_spec,audiosr=audiosr,winLength=winLength,frameshift=frameshift)\n",
        "wavfile.write(os.path.join('/content/synth_audio_dnn/sub-3-4_predicted.wav'),int(audiosr),reconstructedWav)"
      ],
      "metadata": {
        "id": "4vo7awTHsPTW"
      },
      "execution_count": 13,
      "outputs": []
    },
    {
      "cell_type": "markdown",
      "source": [
        "## MCD"
      ],
      "metadata": {
        "id": "nOyM5n9uY0X7"
      }
    },
    {
      "cell_type": "code",
      "source": [
        "import matplotlib.pyplot as plt\n",
        "import librosa\n",
        "import pyworld"
      ],
      "metadata": {
        "id": "LQAz47YEYz5J"
      },
      "execution_count": 17,
      "outputs": []
    },
    {
      "cell_type": "code",
      "source": [
        "#source: https://github.com/SamuelBroughton/Mel-Cepstral-Distortion/blob/master/mel-cepstral-distortion.ipynb\n",
        "def load_wav(wav_file, sr):\n",
        "    \"\"\"\n",
        "    Load a wav file with librosa.\n",
        "    :param wav_file: path to wav file\n",
        "    :param sr: sampling rate\n",
        "    :return: audio time series numpy array\n",
        "    \"\"\"\n",
        "    wav, _ = librosa.load(wav_file, sr=sr, mono=True)\n",
        "\n",
        "    return wav"
      ],
      "metadata": {
        "id": "tpmVHIVvY4M6"
      },
      "execution_count": 18,
      "outputs": []
    },
    {
      "cell_type": "code",
      "source": [
        "orig_bn = load_wav('/content/features/sub-03_orig_audio.wav', 16000)\n",
        "rec_bn = load_wav('/content/synth_audio_dnn/sub-3-4_predicted.wav', 16000)"
      ],
      "metadata": {
        "id": "uhJIgbMQY7xT"
      },
      "execution_count": 19,
      "outputs": []
    },
    {
      "cell_type": "code",
      "source": [
        "#plotting the spectograms of the original sub-o1_orig_audio.wav file and the reconstructed sub-01_predicted.wav file\n",
        "plt.figure(figsize = (30,10))\n",
        "plt.subplot(212)\n",
        "plt.specgram(orig_bn, Fs=16000)\n",
        "plt.title('original')\n",
        "plt.xlabel('Time')\n",
        "plt.ylabel('Frequency') \n",
        "plt.show()\n",
        "\n",
        "plt.figure(figsize = (30,10))\n",
        "\n",
        "plt.subplot(212)\n",
        "plt.specgram(rec_bn, Fs=16000)\n",
        "plt.title('reconstructed')\n",
        "plt.xlabel('Time')\n",
        "plt.ylabel('Frequency') \n",
        "plt.show()"
      ],
      "metadata": {
        "id": "WFpZ0E4RZDOL"
      },
      "execution_count": null,
      "outputs": []
    },
    {
      "cell_type": "code",
      "source": [
        "compute_mcd('/content/synth_audio_dnn/')"
      ],
      "metadata": {
        "colab": {
          "base_uri": "https://localhost:8080/",
          "height": 435
        },
        "id": "NojEO-4sZIR4",
        "outputId": "167bdc7b-5b64-40f0-b2b5-74c1db288f1a"
      },
      "execution_count": 28,
      "outputs": [
        {
          "output_type": "stream",
          "name": "stdout",
          "text": [
            "Processing -----------sub-01_predicted.wav\n"
          ]
        },
        {
          "output_type": "error",
          "ename": "KeyboardInterrupt",
          "evalue": "ignored",
          "traceback": [
            "\u001b[0;31m---------------------------------------------------------------------------\u001b[0m",
            "\u001b[0;31mKeyboardInterrupt\u001b[0m                         Traceback (most recent call last)",
            "\u001b[0;32m<ipython-input-28-16f0112e778f>\u001b[0m in \u001b[0;36m<module>\u001b[0;34m\u001b[0m\n\u001b[0;32m----> 1\u001b[0;31m \u001b[0mcompute_mcd\u001b[0m\u001b[0;34m(\u001b[0m\u001b[0;34m'/content/synth_audio_dnn/'\u001b[0m\u001b[0;34m)\u001b[0m\u001b[0;34m\u001b[0m\u001b[0;34m\u001b[0m\u001b[0m\n\u001b[0m",
            "\u001b[0;32m<ipython-input-27-a1fbffbd69c0>\u001b[0m in \u001b[0;36mcompute_mcd\u001b[0;34m(synth_folder)\u001b[0m\n\u001b[1;32m     59\u001b[0m     \u001b[0msubject_ID\u001b[0m \u001b[0;34m=\u001b[0m \u001b[0msubject\u001b[0m\u001b[0;34m[\u001b[0m\u001b[0;36m0\u001b[0m\u001b[0;34m:\u001b[0m\u001b[0;36m6\u001b[0m\u001b[0;34m]\u001b[0m\u001b[0;34m\u001b[0m\u001b[0;34m\u001b[0m\u001b[0m\n\u001b[1;32m     60\u001b[0m     \u001b[0mfilename1\u001b[0m \u001b[0;34m=\u001b[0m \u001b[0mnatural_folder\u001b[0m \u001b[0;34m+\u001b[0m \u001b[0msubject_ID\u001b[0m \u001b[0;34m+\u001b[0m \u001b[0;34m'_orig_audio.wav'\u001b[0m\u001b[0;34m\u001b[0m\u001b[0;34m\u001b[0m\u001b[0m\n\u001b[0;32m---> 61\u001b[0;31m     \u001b[0mmgc1\u001b[0m \u001b[0;34m=\u001b[0m \u001b[0mreadmgc\u001b[0m\u001b[0;34m(\u001b[0m\u001b[0mfilename1\u001b[0m\u001b[0;34m)\u001b[0m\u001b[0;34m\u001b[0m\u001b[0;34m\u001b[0m\u001b[0m\n\u001b[0m\u001b[1;32m     62\u001b[0m     \u001b[0mfilename2\u001b[0m \u001b[0;34m=\u001b[0m \u001b[0msynth_folder\u001b[0m \u001b[0;34m+\u001b[0m \u001b[0msubject_ID\u001b[0m \u001b[0;34m+\u001b[0m \u001b[0;34m'_predicted.wav'\u001b[0m\u001b[0;34m\u001b[0m\u001b[0;34m\u001b[0m\u001b[0m\n\u001b[1;32m     63\u001b[0m     \u001b[0mmgc2\u001b[0m \u001b[0;34m=\u001b[0m \u001b[0mreadmgc\u001b[0m\u001b[0;34m(\u001b[0m\u001b[0mfilename2\u001b[0m\u001b[0;34m)\u001b[0m\u001b[0;34m\u001b[0m\u001b[0;34m\u001b[0m\u001b[0m\n",
            "\u001b[0;32m<ipython-input-27-a1fbffbd69c0>\u001b[0m in \u001b[0;36mreadmgc\u001b[0;34m(filename)\u001b[0m\n\u001b[1;32m     30\u001b[0m     \u001b[0mgamma\u001b[0m \u001b[0;34m=\u001b[0m \u001b[0;34m-\u001b[0m\u001b[0;36m1.0\u001b[0m \u001b[0;34m/\u001b[0m \u001b[0mstage\u001b[0m\u001b[0;34m\u001b[0m\u001b[0;34m\u001b[0m\u001b[0m\n\u001b[1;32m     31\u001b[0m \u001b[0;34m\u001b[0m\u001b[0m\n\u001b[0;32m---> 32\u001b[0;31m     \u001b[0mmgc\u001b[0m \u001b[0;34m=\u001b[0m \u001b[0mpysptk\u001b[0m\u001b[0;34m.\u001b[0m\u001b[0mmgcep\u001b[0m\u001b[0;34m(\u001b[0m\u001b[0mframes\u001b[0m\u001b[0;34m,\u001b[0m \u001b[0morder\u001b[0m\u001b[0;34m,\u001b[0m \u001b[0malpha\u001b[0m\u001b[0;34m,\u001b[0m \u001b[0mgamma\u001b[0m\u001b[0;34m)\u001b[0m\u001b[0;34m\u001b[0m\u001b[0;34m\u001b[0m\u001b[0m\n\u001b[0m\u001b[1;32m     33\u001b[0m     \u001b[0mmgc\u001b[0m \u001b[0;34m=\u001b[0m \u001b[0mmgc\u001b[0m\u001b[0;34m.\u001b[0m\u001b[0mreshape\u001b[0m\u001b[0;34m(\u001b[0m\u001b[0;34m-\u001b[0m\u001b[0;36m1\u001b[0m\u001b[0;34m,\u001b[0m \u001b[0morder\u001b[0m \u001b[0;34m+\u001b[0m \u001b[0;36m1\u001b[0m\u001b[0;34m)\u001b[0m\u001b[0;34m\u001b[0m\u001b[0;34m\u001b[0m\u001b[0m\n\u001b[1;32m     34\u001b[0m     \u001b[0mprint\u001b[0m\u001b[0;34m(\u001b[0m\u001b[0;34m\"mgc of {} is ok!\"\u001b[0m\u001b[0;34m.\u001b[0m\u001b[0mformat\u001b[0m\u001b[0;34m(\u001b[0m\u001b[0mfilename\u001b[0m\u001b[0;34m)\u001b[0m\u001b[0;34m)\u001b[0m\u001b[0;34m\u001b[0m\u001b[0;34m\u001b[0m\u001b[0m\n",
            "\u001b[0;32m<decorator-gen-130>\u001b[0m in \u001b[0;36mmgcep\u001b[0;34m(windowed, order, alpha, gamma, num_recursions, miniter, maxiter, threshold, etype, eps, min_det, itype, otype)\u001b[0m\n",
            "\u001b[0;32m/usr/local/lib/python3.7/dist-packages/pysptk/util.py\u001b[0m in \u001b[0;36mapply_along_last_axis\u001b[0;34m(func, *args, **kwargs)\u001b[0m\n\u001b[1;32m     64\u001b[0m         \u001b[0;32mif\u001b[0m \u001b[0mlen\u001b[0m\u001b[0;34m(\u001b[0m\u001b[0margs\u001b[0m\u001b[0;34m)\u001b[0m \u001b[0;34m==\u001b[0m \u001b[0;36m0\u001b[0m\u001b[0;34m:\u001b[0m\u001b[0;34m\u001b[0m\u001b[0;34m\u001b[0m\u001b[0m\n\u001b[1;32m     65\u001b[0m             \u001b[0margs\u001b[0m \u001b[0;34m=\u001b[0m \u001b[0mkwargs\u001b[0m\u001b[0;34m.\u001b[0m\u001b[0mpop\u001b[0m\u001b[0;34m(\u001b[0m\u001b[0mfirst_arg_name\u001b[0m\u001b[0;34m)\u001b[0m\u001b[0;34m\u001b[0m\u001b[0;34m\u001b[0m\u001b[0m\n\u001b[0;32m---> 66\u001b[0;31m         \u001b[0mret\u001b[0m \u001b[0;34m=\u001b[0m \u001b[0mnp\u001b[0m\u001b[0;34m.\u001b[0m\u001b[0mapply_along_axis\u001b[0m\u001b[0;34m(\u001b[0m\u001b[0mfunc\u001b[0m\u001b[0;34m,\u001b[0m \u001b[0;34m-\u001b[0m\u001b[0;36m1\u001b[0m\u001b[0;34m,\u001b[0m \u001b[0;34m*\u001b[0m\u001b[0margs\u001b[0m\u001b[0;34m,\u001b[0m \u001b[0;34m**\u001b[0m\u001b[0mkwargs\u001b[0m\u001b[0;34m)\u001b[0m\u001b[0;34m\u001b[0m\u001b[0;34m\u001b[0m\u001b[0m\n\u001b[0m\u001b[1;32m     67\u001b[0m \u001b[0;34m\u001b[0m\u001b[0m\n\u001b[1;32m     68\u001b[0m     \u001b[0;32mreturn\u001b[0m \u001b[0mret\u001b[0m\u001b[0;34m\u001b[0m\u001b[0;34m\u001b[0m\u001b[0m\n",
            "\u001b[0;32m<__array_function__ internals>\u001b[0m in \u001b[0;36mapply_along_axis\u001b[0;34m(*args, **kwargs)\u001b[0m\n",
            "\u001b[0;32m/usr/local/lib/python3.7/dist-packages/numpy/lib/shape_base.py\u001b[0m in \u001b[0;36mapply_along_axis\u001b[0;34m(func1d, axis, arr, *args, **kwargs)\u001b[0m\n\u001b[1;32m    400\u001b[0m     \u001b[0mbuff\u001b[0m\u001b[0;34m[\u001b[0m\u001b[0mind0\u001b[0m\u001b[0;34m]\u001b[0m \u001b[0;34m=\u001b[0m \u001b[0mres\u001b[0m\u001b[0;34m\u001b[0m\u001b[0;34m\u001b[0m\u001b[0m\n\u001b[1;32m    401\u001b[0m     \u001b[0;32mfor\u001b[0m \u001b[0mind\u001b[0m \u001b[0;32min\u001b[0m \u001b[0minds\u001b[0m\u001b[0;34m:\u001b[0m\u001b[0;34m\u001b[0m\u001b[0;34m\u001b[0m\u001b[0m\n\u001b[0;32m--> 402\u001b[0;31m         \u001b[0mbuff\u001b[0m\u001b[0;34m[\u001b[0m\u001b[0mind\u001b[0m\u001b[0;34m]\u001b[0m \u001b[0;34m=\u001b[0m \u001b[0masanyarray\u001b[0m\u001b[0;34m(\u001b[0m\u001b[0mfunc1d\u001b[0m\u001b[0;34m(\u001b[0m\u001b[0minarr_view\u001b[0m\u001b[0;34m[\u001b[0m\u001b[0mind\u001b[0m\u001b[0;34m]\u001b[0m\u001b[0;34m,\u001b[0m \u001b[0;34m*\u001b[0m\u001b[0margs\u001b[0m\u001b[0;34m,\u001b[0m \u001b[0;34m**\u001b[0m\u001b[0mkwargs\u001b[0m\u001b[0;34m)\u001b[0m\u001b[0;34m)\u001b[0m\u001b[0;34m\u001b[0m\u001b[0;34m\u001b[0m\u001b[0m\n\u001b[0m\u001b[1;32m    403\u001b[0m \u001b[0;34m\u001b[0m\u001b[0m\n\u001b[1;32m    404\u001b[0m     \u001b[0;32mif\u001b[0m \u001b[0;32mnot\u001b[0m \u001b[0misinstance\u001b[0m\u001b[0;34m(\u001b[0m\u001b[0mres\u001b[0m\u001b[0;34m,\u001b[0m \u001b[0mmatrix\u001b[0m\u001b[0;34m)\u001b[0m\u001b[0;34m:\u001b[0m\u001b[0;34m\u001b[0m\u001b[0;34m\u001b[0m\u001b[0m\n",
            "\u001b[0;32m<decorator-gen-129>\u001b[0m in \u001b[0;36mmgcep\u001b[0;34m(windowed, order, alpha, gamma, num_recursions, miniter, maxiter, threshold, etype, eps, min_det, itype, otype)\u001b[0m\n",
            "\u001b[0;32m/usr/local/lib/python3.7/dist-packages/pysptk/util.py\u001b[0m in \u001b[0;36mautomatic_type_conversion\u001b[0;34m(func, *args, **kwargs)\u001b[0m\n\u001b[1;32m     87\u001b[0m         \u001b[0;32melse\u001b[0m\u001b[0;34m:\u001b[0m\u001b[0;34m\u001b[0m\u001b[0;34m\u001b[0m\u001b[0m\n\u001b[1;32m     88\u001b[0m             \u001b[0mkwargs\u001b[0m\u001b[0;34m[\u001b[0m\u001b[0mfirst_arg_name\u001b[0m\u001b[0;34m]\u001b[0m \u001b[0;34m=\u001b[0m \u001b[0minput_arg\u001b[0m\u001b[0;34m.\u001b[0m\u001b[0mastype\u001b[0m\u001b[0;34m(\u001b[0m\u001b[0mnp\u001b[0m\u001b[0;34m.\u001b[0m\u001b[0mfloat64\u001b[0m\u001b[0;34m)\u001b[0m\u001b[0;34m\u001b[0m\u001b[0;34m\u001b[0m\u001b[0m\n\u001b[0;32m---> 89\u001b[0;31m     \u001b[0;32mreturn\u001b[0m \u001b[0mfunc\u001b[0m\u001b[0;34m(\u001b[0m\u001b[0;34m*\u001b[0m\u001b[0margs\u001b[0m\u001b[0;34m,\u001b[0m \u001b[0;34m**\u001b[0m\u001b[0mkwargs\u001b[0m\u001b[0;34m)\u001b[0m\u001b[0;34m.\u001b[0m\u001b[0mastype\u001b[0m\u001b[0;34m(\u001b[0m\u001b[0mdtypein\u001b[0m\u001b[0;34m)\u001b[0m\u001b[0;34m\u001b[0m\u001b[0;34m\u001b[0m\u001b[0m\n\u001b[0m\u001b[1;32m     90\u001b[0m \u001b[0;34m\u001b[0m\u001b[0m\n\u001b[1;32m     91\u001b[0m \u001b[0;34m\u001b[0m\u001b[0m\n",
            "\u001b[0;32m/usr/local/lib/python3.7/dist-packages/pysptk/sptk.py\u001b[0m in \u001b[0;36mmgcep\u001b[0;34m(windowed, order, alpha, gamma, num_recursions, miniter, maxiter, threshold, etype, eps, min_det, itype, otype)\u001b[0m\n\u001b[1;32m    758\u001b[0m         \u001b[0mmin_det\u001b[0m\u001b[0;34m,\u001b[0m\u001b[0;34m\u001b[0m\u001b[0;34m\u001b[0m\u001b[0m\n\u001b[1;32m    759\u001b[0m         \u001b[0mitype\u001b[0m\u001b[0;34m,\u001b[0m\u001b[0;34m\u001b[0m\u001b[0;34m\u001b[0m\u001b[0m\n\u001b[0;32m--> 760\u001b[0;31m         \u001b[0motype\u001b[0m\u001b[0;34m,\u001b[0m\u001b[0;34m\u001b[0m\u001b[0;34m\u001b[0m\u001b[0m\n\u001b[0m\u001b[1;32m    761\u001b[0m     )\n\u001b[1;32m    762\u001b[0m \u001b[0;34m\u001b[0m\u001b[0m\n",
            "\u001b[0;31mKeyboardInterrupt\u001b[0m: "
          ]
        }
      ]
    },
    {
      "cell_type": "code",
      "source": [
        "# def concatenating_and_padding(subs):\n",
        "#   whole_data = []\n",
        "#   whole_spec = []\n",
        "\n",
        "#   for participant in subs:\n",
        "#     data = np.load(os.path.join(feat_path,f'{participant}_feat.npy'))\n",
        "#     whole_data.append(data)\n",
        "#     spec = np.load(os.path.join(feat_path,f'{participant}_spec.npy'))\n",
        "#     whole_spec.append(spec)\n",
        "\n",
        "#   new_spec = np.array(whole_spec)\n",
        "\n",
        "#   max_len = max([dat.shape[1] for dat in whole_data]) # max number of features\n",
        "#   all_len = sum([dat.shape[0] for dat in whole_data]) # sum of all rows\n",
        "\n",
        "#   new_data = np.zeros((all_len,max_len))\n",
        "\n",
        "#   num_rows = 0\n",
        "#   for sub in whole_data:\n",
        "#     row_len = sub.shape[1]\n",
        "#     new_data[num_rows:num_rows+sub.shape[0],0:row_len] = sub\n",
        "#     num_rows += sub.shape[0]\n",
        "\n",
        "#   return new_data, new_spec"
      ],
      "metadata": {
        "id": "-CWajNm0PziW"
      },
      "execution_count": null,
      "outputs": []
    }
  ]
}