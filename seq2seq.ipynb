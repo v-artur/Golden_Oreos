{
  "nbformat": 4,
  "nbformat_minor": 0,
  "metadata": {
    "colab": {
      "provenance": [],
      "authorship_tag": "ABX9TyM/xfEx/5Usv0UZaRkKegG9",
      "include_colab_link": true
    },
    "kernelspec": {
      "name": "python3",
      "display_name": "Python 3"
    },
    "language_info": {
      "name": "python"
    }
  },
  "cells": [
    {
      "cell_type": "markdown",
      "metadata": {
        "id": "view-in-github",
        "colab_type": "text"
      },
      "source": [
        "<a href=\"https://colab.research.google.com/github/v-artur/Golden_Oreos/blob/main/seq2seq.ipynb\" target=\"_parent\"><img src=\"https://colab.research.google.com/assets/colab-badge.svg\" alt=\"Open In Colab\"/></a>"
      ]
    },
    {
      "cell_type": "code",
      "source": [
        "!pip install gdown"
      ],
      "metadata": {
        "colab": {
          "base_uri": "https://localhost:8080/"
        },
        "id": "uRQcjeHTNXVK",
        "outputId": "feb3be76-7fb5-4968-aa60-b881afe2b09b"
      },
      "execution_count": null,
      "outputs": [
        {
          "output_type": "stream",
          "name": "stdout",
          "text": [
            "Looking in indexes: https://pypi.org/simple, https://us-python.pkg.dev/colab-wheels/public/simple/\n",
            "Requirement already satisfied: gdown in /usr/local/lib/python3.7/dist-packages (4.4.0)\n",
            "Requirement already satisfied: filelock in /usr/local/lib/python3.7/dist-packages (from gdown) (3.8.0)\n",
            "Requirement already satisfied: beautifulsoup4 in /usr/local/lib/python3.7/dist-packages (from gdown) (4.6.3)\n",
            "Requirement already satisfied: six in /usr/local/lib/python3.7/dist-packages (from gdown) (1.15.0)\n",
            "Requirement already satisfied: requests[socks] in /usr/local/lib/python3.7/dist-packages (from gdown) (2.23.0)\n",
            "Requirement already satisfied: tqdm in /usr/local/lib/python3.7/dist-packages (from gdown) (4.64.1)\n",
            "Requirement already satisfied: idna<3,>=2.5 in /usr/local/lib/python3.7/dist-packages (from requests[socks]->gdown) (2.10)\n",
            "Requirement already satisfied: urllib3!=1.25.0,!=1.25.1,<1.26,>=1.21.1 in /usr/local/lib/python3.7/dist-packages (from requests[socks]->gdown) (1.24.3)\n",
            "Requirement already satisfied: certifi>=2017.4.17 in /usr/local/lib/python3.7/dist-packages (from requests[socks]->gdown) (2022.9.24)\n",
            "Requirement already satisfied: chardet<4,>=3.0.2 in /usr/local/lib/python3.7/dist-packages (from requests[socks]->gdown) (3.0.4)\n",
            "Requirement already satisfied: PySocks!=1.5.7,>=1.5.6 in /usr/local/lib/python3.7/dist-packages (from requests[socks]->gdown) (1.7.1)\n"
          ]
        }
      ]
    },
    {
      "cell_type": "code",
      "source": [
        "#obtaining the data\n",
        "!gdown https://drive.google.com/uc?id=1vtZchVzl424pSQBXQ8EBxvVOzcEQPKIp\n",
        "\n",
        "#extracting it\n",
        "import zipfile\n",
        "zip_ref = zipfile.ZipFile(\"/content/features.zip\", 'r')\n",
        "zip_ref.extractall(\"/content/features\")\n",
        "zip_ref.close()"
      ],
      "metadata": {
        "colab": {
          "base_uri": "https://localhost:8080/"
        },
        "id": "wPOFvay6Nb-D",
        "outputId": "eec6541b-10f8-4dc2-ce68-b26acd38bef7"
      },
      "execution_count": null,
      "outputs": [
        {
          "output_type": "stream",
          "name": "stdout",
          "text": [
            "Downloading...\n",
            "From: https://drive.google.com/uc?id=1vtZchVzl424pSQBXQ8EBxvVOzcEQPKIp\n",
            "To: /content/features.zip\n",
            "100% 2.14G/2.14G [00:12<00:00, 170MB/s]\n"
          ]
        }
      ]
    },
    {
      "cell_type": "code",
      "source": [
        "#setting the sample \n",
        "feat_path = r'/content/features'"
      ],
      "metadata": {
        "id": "6gzQUp7vNesP"
      },
      "execution_count": null,
      "outputs": []
    },
    {
      "cell_type": "code",
      "source": [
        "import numpy as np\n",
        "import os"
      ],
      "metadata": {
        "id": "c5LKhbRBfZ7q"
      },
      "execution_count": null,
      "outputs": []
    },
    {
      "cell_type": "code",
      "source": [
        "train_subs = ['sub-05', 'sub-06', 'sub-07', 'sub-08', 'sub-09','sub-10']\n",
        "val_subs = ['sub-01', 'sub-02']\n",
        "test_subs = ['sub-03', 'sub-04']"
      ],
      "metadata": {
        "id": "mLEqXYqCKy2R"
      },
      "execution_count": null,
      "outputs": []
    },
    {
      "cell_type": "code",
      "source": [
        "# concatenating and padding the data\n",
        "whole_data = []\n",
        "whole_spec = []\n",
        "\n",
        "for participant in train_subs:\n",
        "  data = np.load(os.path.join(feat_path,f'{participant}_feat.npy'))\n",
        "  whole_data.append(data)\n",
        "  spec = np.load(os.path.join(feat_path,f'{participant}_spec.npy'))\n",
        "  whole_spec.append(spec)\n",
        "\n",
        "new_spec = np.array(spec)\n",
        "\n",
        "max_len = max([dat.shape[1] for dat in whole_data]) # max number of features\n",
        "all_len = sum([dat.shape[0] for dat in whole_data]) # sum of all rows\n",
        "\n",
        "new_data = np.zeros((all_len,max_len))\n",
        "\n",
        "num_rows = 0\n",
        "for sub in whole_data:\n",
        "  row_len = sub.shape[1]\n",
        "  new_data[num_rows:num_rows+sub.shape[0],0:row_len] = sub\n",
        "  num_rows += sub.shape[0]"
      ],
      "metadata": {
        "id": "GMt2V-nBap1U"
      },
      "execution_count": null,
      "outputs": []
    },
    {
      "cell_type": "code",
      "source": [
        "data = new_data[:700] # csak h gyorsabb legyen\n",
        "spec = new_spec[:700]"
      ],
      "metadata": {
        "id": "PTD6FFXUfjYs"
      },
      "execution_count": null,
      "outputs": []
    },
    {
      "cell_type": "code",
      "source": [
        "from sklearn.preprocessing import StandardScaler\n",
        "scaler = StandardScaler()\n",
        "data = scaler.fit_transform(data)\n",
        "\n",
        "from sklearn.decomposition import PCA\n",
        "pca = PCA(n_components=300)\n",
        "data = pca.fit_transform(data)"
      ],
      "metadata": {
        "id": "dwNl7AzP4bFm"
      },
      "execution_count": null,
      "outputs": []
    },
    {
      "cell_type": "code",
      "source": [
        "data = data.reshape((data.shape[0],data.shape[1],1))\n",
        "spec = spec.reshape((spec.shape[0],spec.shape[1],1))"
      ],
      "metadata": {
        "id": "PPBDR6KVfnsl"
      },
      "execution_count": null,
      "outputs": []
    },
    {
      "cell_type": "markdown",
      "source": [
        "## Model 1"
      ],
      "metadata": {
        "id": "utpfaN_GKThY"
      }
    },
    {
      "cell_type": "code",
      "source": [
        "from keras.models import Model\n",
        "from keras.layers import LSTM\n",
        "from keras import Input\n",
        "from tensorflow.keras.callbacks import EarlyStopping, ModelCheckpoint"
      ],
      "metadata": {
        "id": "hvFm_aBIf9ap"
      },
      "execution_count": null,
      "outputs": []
    },
    {
      "cell_type": "code",
      "source": [
        "timesteps = data.shape[1]             # dimensionality of the input sequence\n",
        "features = 1                          # dimensionality of each input representation in the sequence\n",
        "outputDim = spec.shape[1]             # dimensionality of the LSTM outputs (Hidden & Cell states)\n",
        "\n",
        "input = Input(shape=(timesteps, features))\n",
        "output = LSTM(outputDim)(input)\n",
        "model_LSTM = Model(inputs=input, outputs=output)\n",
        "\n",
        "early_stopping=EarlyStopping(patience=25, verbose=1, min_delta=1e-5)\n",
        "checkpointer = ModelCheckpoint(filepath='weights-lstm.hdf5', save_best_only=True, verbose=1)\n",
        "\n",
        "model_LSTM.compile(loss='mse', optimizer='adam', metrics=['mse'])\n",
        "model_LSTM.fit(data, spec, epochs=2, validation_split=0.2, batch_size=64, verbose=1, callbacks=[checkpointer, early_stopping])"
      ],
      "metadata": {
        "colab": {
          "base_uri": "https://localhost:8080/"
        },
        "id": "0PygCxrnfp7U",
        "outputId": "c17473ce-b530-430f-b11d-ee3ddba15258"
      },
      "execution_count": null,
      "outputs": [
        {
          "output_type": "stream",
          "name": "stdout",
          "text": [
            "Epoch 1/2\n",
            "9/9 [==============================] - ETA: 0s - loss: 34.7237 - mse: 34.7237\n",
            "Epoch 1: val_loss improved from inf to 21.97810, saving model to weights-lstm.hdf5\n",
            "9/9 [==============================] - 4s 206ms/step - loss: 34.7237 - mse: 34.7237 - val_loss: 21.9781 - val_mse: 21.9781\n",
            "Epoch 2/2\n",
            "9/9 [==============================] - ETA: 0s - loss: 34.6046 - mse: 34.6046\n",
            "Epoch 2: val_loss improved from 21.97810 to 21.85045, saving model to weights-lstm.hdf5\n",
            "9/9 [==============================] - 2s 254ms/step - loss: 34.6046 - mse: 34.6046 - val_loss: 21.8505 - val_mse: 21.8505\n"
          ]
        },
        {
          "output_type": "execute_result",
          "data": {
            "text/plain": [
              "<keras.callbacks.History at 0x7f5f81365590>"
            ]
          },
          "metadata": {},
          "execution_count": 36
        }
      ]
    },
    {
      "cell_type": "code",
      "source": [
        "x = data[0].reshape((1,300,1))\n",
        "model_LSTM.predict(x)"
      ],
      "metadata": {
        "colab": {
          "base_uri": "https://localhost:8080/"
        },
        "id": "WPIrGpRYfvZc",
        "outputId": "4068e1fb-b985-4f13-9267-4ac2b91715fc"
      },
      "execution_count": null,
      "outputs": [
        {
          "output_type": "stream",
          "name": "stdout",
          "text": [
            "1/1 [==============================] - 1s 1s/step\n"
          ]
        },
        {
          "output_type": "execute_result",
          "data": {
            "text/plain": [
              "array([[ 0.02184878,  0.00101783,  0.0498811 ,  0.03227128,  0.00900106,\n",
              "         0.02459884,  0.03467947, -0.03122801,  0.01736614,  0.00867993,\n",
              "         0.02060732,  0.02335466,  0.03695188,  0.05550836,  0.02819482,\n",
              "         0.01989756,  0.00413431,  0.0261831 ,  0.06803001,  0.04563647,\n",
              "        -0.0118434 ,  0.03158363,  0.01438381]], dtype=float32)"
            ]
          },
          "metadata": {},
          "execution_count": 37
        }
      ]
    },
    {
      "cell_type": "markdown",
      "source": [
        "## Model 2"
      ],
      "metadata": {
        "id": "Z4q3-S2nKVwg"
      }
    },
    {
      "cell_type": "markdown",
      "source": [
        "https://blog.keras.io/a-ten-minute-introduction-to-sequence-to-sequence-learning-in-keras.html"
      ],
      "metadata": {
        "id": "iJku1HRh-W28"
      }
    },
    {
      "cell_type": "code",
      "source": [
        "from keras.models import Model\n",
        "from keras.layers import Input, LSTM, Dense\n",
        "\n",
        "latent_dim = 128\n",
        "start_symbol = 1.\n",
        "\n",
        "#### ?\n",
        "encoder_input_data = data\n",
        "encoder_input_data[0,0,0] = start_symbol\n",
        "decoder_input_data = spec\n",
        "decoder_input_data[0,0,0] = start_symbol\n",
        "\n",
        "start = np.zeros((1,spec.shape[1],1))\n",
        "decoder_target_data = np.vstack((start, spec[:-1]))\n",
        "####\n",
        "\n",
        "encoder_inputs = Input(shape=(data.shape[1], 1))\n",
        "encoder = LSTM(units=latent_dim, return_state = True)\n",
        "encoder_outputs, state_h, state_c = encoder(encoder_inputs)\n",
        "encoder_states = [state_h, state_c]\n",
        "\n",
        "decoder_inputs = Input(shape=(spec.shape[1], 1))\n",
        "decoder_lstm = LSTM(latent_dim, return_sequences=True, return_state=True)\n",
        "decoder_outputs, _, _ = decoder_lstm(decoder_inputs, initial_state=encoder_states)\n",
        "decoder_dense = Dense(spec.shape[1], activation='softmax')\n",
        "decoder_outputs = decoder_dense(decoder_outputs)\n",
        "\n",
        "model = Model(inputs=[encoder_inputs, decoder_inputs], outputs=[decoder_outputs])\n",
        "\n",
        "model.compile(optimizer='adam', loss='mse', metrics=['mse'])\n",
        "\n",
        "early_stopping = EarlyStopping(patience=20, verbose=1, min_delta=1e-5)\n",
        "checkpointer = ModelCheckpoint(filepath='weights.hdf5', save_best_only=True, verbose=1)\n",
        "\n",
        "history = model.fit([encoder_input_data, decoder_input_data], decoder_target_data,\n",
        "                    validation_split=0.2, batch_size=64, epochs=1, callbacks=[checkpointer, early_stopping]) # val?"
      ],
      "metadata": {
        "colab": {
          "base_uri": "https://localhost:8080/"
        },
        "id": "akLL2vO2fzIm",
        "outputId": "0e0f1aa7-53f8-46f9-eeac-3adc8d3d7ad1"
      },
      "execution_count": null,
      "outputs": [
        {
          "output_type": "stream",
          "name": "stdout",
          "text": [
            "9/9 [==============================] - ETA: 0s - loss: 34.2520 - mse: 34.2520\n",
            "Epoch 1: val_loss improved from inf to 21.21002, saving model to weights.hdf5\n",
            "9/9 [==============================] - 15s 748ms/step - loss: 34.2520 - mse: 34.2520 - val_loss: 21.2100 - val_mse: 21.2100\n"
          ]
        }
      ]
    },
    {
      "cell_type": "code",
      "source": [
        "# Inference:\n",
        "\n",
        "encoder_model = Model(encoder_inputs, encoder_states)\n",
        "\n",
        "decoder_state_input_h = Input(shape=(latent_dim,))\n",
        "decoder_state_input_c = Input(shape=(latent_dim,))\n",
        "decoder_states_inputs = [decoder_state_input_h, decoder_state_input_c]\n",
        "\n",
        "decoder_outputs, state_h, state_c = decoder_lstm(decoder_inputs, initial_state=decoder_states_inputs)\n",
        "\n",
        "decoder_states = [state_h, state_c]\n",
        "decoder_outputs = decoder_dense(decoder_outputs)\n",
        "\n",
        "decoder_model = Model(\n",
        "    [decoder_inputs] + decoder_states_inputs,\n",
        "    [decoder_outputs] + decoder_states)"
      ],
      "metadata": {
        "id": "fj5Hl9-W6tPy"
      },
      "execution_count": null,
      "outputs": []
    },
    {
      "cell_type": "code",
      "source": [
        "# def decode_sequence2(input_seq):\n",
        "\n",
        "#   states_value = encoder_model.predict(input_seq)\n",
        "#   decoded_sentence = []\n",
        "\n",
        "#   for t in range(23):\n",
        "#     target_seq = np.zeros((1, 23, 1))\n",
        "#     target_seq[0, t, 0] = 1.\n",
        "\n",
        "#     outputs, h, c = decoder_model.predict(\n",
        "#         [target_seq] + states_value)\n",
        "\n",
        "#     decoded_sentence.append(np.argmax(outputs[0, -1, :])) # ?\n",
        "\n",
        "#     states_value = [h, c]\n",
        "\n",
        "#   return decoded_sentence"
      ],
      "metadata": {
        "id": "nTnlU0tOJgoK"
      },
      "execution_count": null,
      "outputs": []
    },
    {
      "cell_type": "code",
      "source": [
        "def decode_sequence(input_seq):\n",
        "  input_seq[0,0,0] = start_symbol\n",
        "  states_value = encoder_model.predict(input_seq)\n",
        "\n",
        "  decoded_sentence = []\n",
        "  target_seq = np.zeros((1, 23, 1))\n",
        "  target_seq[0, 0, 0] = start_symbol\n",
        "\n",
        "  for t in range(1,23):\n",
        "    \n",
        "    outputs, h, c = decoder_model.predict(\n",
        "        [target_seq] + states_value)\n",
        "\n",
        "    target_seq[0, t, 0] = np.argmax(outputs[0, -1, :])\n",
        "\n",
        "    states_value = [h, c]\n",
        "\n",
        "  return target_seq"
      ],
      "metadata": {
        "id": "BZv8LvXApair"
      },
      "execution_count": null,
      "outputs": []
    },
    {
      "cell_type": "code",
      "source": [
        "x = data[50].reshape((1,300,1))\n",
        "pred = decode_sequence(x)"
      ],
      "metadata": {
        "colab": {
          "base_uri": "https://localhost:8080/"
        },
        "id": "-ownjpOF-elu",
        "outputId": "f75e346d-3e6b-47d2-9580-c52a8136567c"
      },
      "execution_count": null,
      "outputs": [
        {
          "output_type": "stream",
          "name": "stdout",
          "text": [
            "1/1 [==============================] - 0s 461ms/step\n"
          ]
        },
        {
          "output_type": "stream",
          "name": "stderr",
          "text": [
            "WARNING:tensorflow:5 out of the last 26 calls to <function Model.make_predict_function.<locals>.predict_function at 0x7f5f7cbc6cb0> triggered tf.function retracing. Tracing is expensive and the excessive number of tracings could be due to (1) creating @tf.function repeatedly in a loop, (2) passing tensors with different shapes, (3) passing Python objects instead of tensors. For (1), please define your @tf.function outside of the loop. For (2), @tf.function has reduce_retracing=True option that can avoid unnecessary retracing. For (3), please refer to https://www.tensorflow.org/guide/function#controlling_retracing and https://www.tensorflow.org/api_docs/python/tf/function for  more details.\n"
          ]
        },
        {
          "output_type": "stream",
          "name": "stdout",
          "text": [
            "1/1 [==============================] - 0s 445ms/step\n",
            "1/1 [==============================] - 0s 22ms/step\n",
            "1/1 [==============================] - 0s 21ms/step\n",
            "1/1 [==============================] - 0s 24ms/step\n",
            "1/1 [==============================] - 0s 24ms/step\n",
            "1/1 [==============================] - 0s 21ms/step\n",
            "1/1 [==============================] - 0s 25ms/step\n",
            "1/1 [==============================] - 0s 20ms/step\n",
            "1/1 [==============================] - 0s 20ms/step\n",
            "1/1 [==============================] - 0s 25ms/step\n",
            "1/1 [==============================] - 0s 21ms/step\n",
            "1/1 [==============================] - 0s 21ms/step\n",
            "1/1 [==============================] - 0s 21ms/step\n",
            "1/1 [==============================] - 0s 23ms/step\n",
            "1/1 [==============================] - 0s 25ms/step\n",
            "1/1 [==============================] - 0s 23ms/step\n",
            "1/1 [==============================] - 0s 23ms/step\n",
            "1/1 [==============================] - 0s 25ms/step\n",
            "1/1 [==============================] - 0s 23ms/step\n",
            "1/1 [==============================] - 0s 23ms/step\n",
            "1/1 [==============================] - 0s 22ms/step\n",
            "1/1 [==============================] - 0s 26ms/step\n"
          ]
        }
      ]
    },
    {
      "cell_type": "code",
      "source": [
        "pred"
      ],
      "metadata": {
        "colab": {
          "base_uri": "https://localhost:8080/"
        },
        "id": "2nyuC32mGddJ",
        "outputId": "63db5201-5589-4b37-bf16-378a40cfead5"
      },
      "execution_count": null,
      "outputs": [
        {
          "output_type": "execute_result",
          "data": {
            "text/plain": [
              "array([[[ 1.],\n",
              "        [12.],\n",
              "        [12.],\n",
              "        [12.],\n",
              "        [12.],\n",
              "        [12.],\n",
              "        [12.],\n",
              "        [12.],\n",
              "        [12.],\n",
              "        [12.],\n",
              "        [12.],\n",
              "        [12.],\n",
              "        [12.],\n",
              "        [12.],\n",
              "        [12.],\n",
              "        [12.],\n",
              "        [12.],\n",
              "        [12.],\n",
              "        [12.],\n",
              "        [ 9.],\n",
              "        [ 9.],\n",
              "        [ 9.],\n",
              "        [22.]]])"
            ]
          },
          "metadata": {},
          "execution_count": 43
        }
      ]
    },
    {
      "cell_type": "code",
      "source": [
        "pred.shape"
      ],
      "metadata": {
        "colab": {
          "base_uri": "https://localhost:8080/"
        },
        "id": "Ml4SqLN07Y8V",
        "outputId": "7b53a389-29ce-4631-cf25-f7570b6bda22"
      },
      "execution_count": null,
      "outputs": [
        {
          "output_type": "execute_result",
          "data": {
            "text/plain": [
              "(1, 23, 1)"
            ]
          },
          "metadata": {},
          "execution_count": 44
        }
      ]
    },
    {
      "cell_type": "code",
      "source": [
        "# https://github.com/dyq0811/EEG-Transformer-seq2seq"
      ],
      "metadata": {
        "id": "xnk7t2dEDiXI"
      },
      "execution_count": null,
      "outputs": []
    }
  ]
}